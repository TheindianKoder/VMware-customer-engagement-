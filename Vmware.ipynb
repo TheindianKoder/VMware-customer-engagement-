{
  "nbformat": 4,
  "nbformat_minor": 0,
  "metadata": {
    "colab": {
      "name": "Vmware.ipynb",
      "provenance": [],
      "collapsed_sections": [],
      "authorship_tag": "ABX9TyOPqgCnJxh5M6HMDdFtXNTn"
    },
    "kernelspec": {
      "name": "python3",
      "display_name": "Python 3"
    },
    "accelerator": "TPU"
  },
  "cells": [
    {
      "cell_type": "code",
      "metadata": {
        "id": "jWzm52E1aJqB",
        "colab_type": "code",
        "colab": {
          "base_uri": "https://localhost:8080/",
          "height": 34
        },
        "outputId": "810580a7-b27f-4e54-c2cf-cdf30b4b6a95"
      },
      "source": [
        "#mounting Drive..............\n",
        "from google.colab import drive\n",
        "drive.mount('/content/drive')"
      ],
      "execution_count": 20,
      "outputs": [
        {
          "output_type": "stream",
          "text": [
            "Drive already mounted at /content/drive; to attempt to forcibly remount, call drive.mount(\"/content/drive\", force_remount=True).\n"
          ],
          "name": "stdout"
        }
      ]
    },
    {
      "cell_type": "code",
      "metadata": {
        "id": "KAa1KMVeaTaP",
        "colab_type": "code",
        "colab": {
          "base_uri": "https://localhost:8080/",
          "height": 136
        },
        "outputId": "b82b1596-d217-421c-92a6-4296a95bb08f"
      },
      "source": [
        "#locating directory where our files are stored.\n",
        "import os\n",
        "os.chdir('/content/drive/My Drive/Business_analytics/Marketing_analytics/')\n",
        "!ls"
      ],
      "execution_count": 22,
      "outputs": [
        {
          "output_type": "stream",
          "text": [
            "clean_till_237_features       result_rfe_rf.csv\n",
            "clean_till_538_features       SelectKbest_Result.csv\n",
            "data_Cleaned_further_203.csv  slightly_edited_data_vmware.xlsx\n",
            "final_Data_for_modelling.csv  till_203.csv\n",
            "final_imp_feature.csv\t      Training.csv\n",
            "result_rfe_DT.csv\t      tree_features.csv\n",
            "result_rfe_DT_standard.csv    Vmware.ipynb\n"
          ],
          "name": "stdout"
        }
      ]
    },
    {
      "cell_type": "code",
      "metadata": {
        "id": "FkJ2r8xjakBS",
        "colab_type": "code",
        "colab": {}
      },
      "source": [
        "#importing file....\n",
        "import pandas as pd\n",
        "data = pd.read_csv('data_Cleaned_further_203.csv')\n"
      ],
      "execution_count": null,
      "outputs": []
    },
    {
      "cell_type": "code",
      "metadata": {
        "id": "O7vMMCJoa6UO",
        "colab_type": "code",
        "colab": {
          "base_uri": "https://localhost:8080/",
          "height": 35
        },
        "outputId": "e2bea83e-6a9e-4a47-939d-7c797c5ef167"
      },
      "source": [
        "data.shape"
      ],
      "execution_count": null,
      "outputs": [
        {
          "output_type": "execute_result",
          "data": {
            "text/plain": [
              "(50006, 201)"
            ]
          },
          "metadata": {
            "tags": []
          },
          "execution_count": 4
        }
      ]
    },
    {
      "cell_type": "code",
      "metadata": {
        "id": "YZnAplt4R7uy",
        "colab_type": "code",
        "colab": {}
      },
      "source": [
        "#removing unneccesary column.\n",
        "data.drop(['Unnamed: 0'], axis=1, inplace=True)"
      ],
      "execution_count": null,
      "outputs": []
    },
    {
      "cell_type": "code",
      "metadata": {
        "id": "H0CuOcfjbACs",
        "colab_type": "code",
        "colab": {}
      },
      "source": [
        "#you can see complete list of columns....specially when data has 700 columns.\n",
        "p = data.columns\n",
        "for i in p:\n",
        "    print(i)"
      ],
      "execution_count": null,
      "outputs": []
    },
    {
      "cell_type": "code",
      "metadata": {
        "id": "qm23Z_mhbdRM",
        "colab_type": "code",
        "colab": {}
      },
      "source": [
        "data['hyperthreading_active_flag'].isnull().sum()\n",
        "#data['hyperthreading_active_flag']= data['hyperthreading_active_flag'].astype('category')\n",
        "#r = data[data['hyperthreading_active_flag']=='NaN']\n",
        "#r.shape"
      ],
      "execution_count": null,
      "outputs": []
    },
    {
      "cell_type": "code",
      "metadata": {
        "id": "Tm_8M-4KgWiW",
        "colab_type": "code",
        "colab": {}
      },
      "source": [
        "\n",
        "#removing columns where initial null values 'NA' which has been treated as NaN by python and count exceeds 50%\n",
        "tot = data.shape[0]\n",
        "for i in data.columns:\n",
        "   result = data[i].isnull().sum() \n",
        "   if result >= .5*tot:\n",
        "    data.drop([i], axis=1,inplace=True)"
      ],
      "execution_count": null,
      "outputs": []
    },
    {
      "cell_type": "code",
      "metadata": {
        "id": "yoYHlg7lgk7L",
        "colab_type": "code",
        "colab": {
          "base_uri": "https://localhost:8080/",
          "height": 34
        },
        "outputId": "c791cd98-756b-430e-b881-2be8637deb79"
      },
      "source": [
        "data.shape  #features remained  651."
      ],
      "execution_count": null,
      "outputs": [
        {
          "output_type": "execute_result",
          "data": {
            "text/plain": [
              "(50006, 651)"
            ]
          },
          "metadata": {
            "tags": []
          },
          "execution_count": 8
        }
      ]
    },
    {
      "cell_type": "code",
      "metadata": {
        "id": "2_ttZv3if397",
        "colab_type": "code",
        "colab": {}
      },
      "source": [
        "#Replacing all dubious values with NaN\n",
        "values = [9999,'Unknown']\n",
        "\n",
        "for i in values:\n",
        "  data.replace(to_replace=i, value='NaN', inplace=True)\n"
      ],
      "execution_count": null,
      "outputs": []
    },
    {
      "cell_type": "code",
      "metadata": {
        "id": "EcwoEA1VkREh",
        "colab_type": "code",
        "colab": {
          "base_uri": "https://localhost:8080/",
          "height": 34
        },
        "outputId": "36a64bc8-dfba-4591-cb57-a8beba60490e"
      },
      "source": [
        "#sample code to check if results are aligned and as expected.\n",
        "options=['0']\n",
        "rslt_df = data[(data['days_since_last_prodA_std_purchase_date'] == 'NaN') & (data['target'].isin(options))]\n",
        "rslt_df.shape[0]"
      ],
      "execution_count": null,
      "outputs": [
        {
          "output_type": "execute_result",
          "data": {
            "text/plain": [
              "44453"
            ]
          },
          "metadata": {
            "tags": []
          },
          "execution_count": 11
        }
      ]
    },
    {
      "cell_type": "code",
      "metadata": {
        "id": "hw-g4dUCjmag",
        "colab_type": "code",
        "colab": {
          "base_uri": "https://localhost:8080/",
          "height": 51
        },
        "outputId": "141dd940-be4f-4acf-b138-64a774c91fb9"
      },
      "source": [
        "#taking out columns where missing values and target value is zero which is more than 50% of data. \n",
        "#does not contibute well to analysis. \n",
        "#distribution of  zero class is 97% in data. data is imbalanced. we have to keep this in mind while treating missing values\n",
        "tot = data.shape[0]\n",
        "options=['0']\n",
        "for i in data.columns:\n",
        "   rslt_df = data[(data[i] == 'NaN') & (data['target'].isin(options))] #these does not contribute much to analysis\n",
        "   c = rslt_df.shape[0]\n",
        "   if c >= .5*tot:\n",
        "    data.drop([i], axis=1,inplace=True)"
      ],
      "execution_count": null,
      "outputs": [
        {
          "output_type": "stream",
          "text": [
            "/usr/local/lib/python3.6/dist-packages/pandas/core/ops/array_ops.py:253: FutureWarning: elementwise comparison failed; returning scalar instead, but in the future will perform elementwise comparison\n",
            "  res_values = method(rvalues)\n"
          ],
          "name": "stderr"
        }
      ]
    },
    {
      "cell_type": "code",
      "metadata": {
        "id": "9I1xn1GJjsS4",
        "colab_type": "code",
        "colab": {
          "base_uri": "https://localhost:8080/",
          "height": 34
        },
        "outputId": "f6d7db93-9754-459f-d978-b3db55f422dc"
      },
      "source": [
        "data.shape  #features remained."
      ],
      "execution_count": null,
      "outputs": [
        {
          "output_type": "execute_result",
          "data": {
            "text/plain": [
              "(50006, 561)"
            ]
          },
          "metadata": {
            "tags": []
          },
          "execution_count": 11
        }
      ]
    },
    {
      "cell_type": "code",
      "metadata": {
        "id": "S7SKQKHwo4yj",
        "colab_type": "code",
        "colab": {}
      },
      "source": [
        "#changing data type.....\n",
        "for i in data.columns:\n",
        "  if data[i].nunique() < 8:\n",
        "    data[i]= data[i].astype('category')"
      ],
      "execution_count": null,
      "outputs": []
    },
    {
      "cell_type": "code",
      "metadata": {
        "id": "zAHv_fuhpb1M",
        "colab_type": "code",
        "colab": {}
      },
      "source": [
        "#checking data type\n",
        "for i in data.columns:\n",
        "    print(i,data[i].dtypes)"
      ],
      "execution_count": null,
      "outputs": []
    },
    {
      "cell_type": "code",
      "metadata": {
        "id": "V50rwKHxyXVx",
        "colab_type": "code",
        "colab": {}
      },
      "source": [
        "#check point one \n",
        "data_fc = data"
      ],
      "execution_count": null,
      "outputs": []
    },
    {
      "cell_type": "code",
      "metadata": {
        "id": "_P06I5wu_bhy",
        "colab_type": "code",
        "colab": {}
      },
      "source": [
        ""
      ],
      "execution_count": null,
      "outputs": []
    },
    {
      "cell_type": "code",
      "metadata": {
        "id": "llnAyFN40W8h",
        "colab_type": "code",
        "colab": {
          "base_uri": "https://localhost:8080/",
          "height": 34
        },
        "outputId": "44609f5a-b7a0-4eb8-ecfa-4c076d73cbf5"
      },
      "source": [
        "data.shape"
      ],
      "execution_count": null,
      "outputs": [
        {
          "output_type": "execute_result",
          "data": {
            "text/plain": [
              "(50006, 561)"
            ]
          },
          "metadata": {
            "tags": []
          },
          "execution_count": 15
        }
      ]
    },
    {
      "cell_type": "code",
      "metadata": {
        "id": "KV2PHIsur07Q",
        "colab_type": "code",
        "colab": {
          "base_uri": "https://localhost:8080/",
          "height": 34
        },
        "outputId": "ec942e52-138b-4f94-d9db-ac36644da345"
      },
      "source": [
        "# sample code to extract values based on column condition\n",
        "q = data[data['target']==0]\n",
        "q.shape"
      ],
      "execution_count": null,
      "outputs": [
        {
          "output_type": "execute_result",
          "data": {
            "text/plain": [
              "(48670, 561)"
            ]
          },
          "metadata": {
            "tags": []
          },
          "execution_count": 222
        }
      ]
    },
    {
      "cell_type": "code",
      "metadata": {
        "id": "bf-DcPQGq_Xc",
        "colab_type": "code",
        "colab": {
          "base_uri": "https://localhost:8080/",
          "height": 34
        },
        "outputId": "0f67914a-cb80-434c-e609-2981bf73c1ee"
      },
      "source": [
        "# this is the desired way of extracting values common to both columns......\n",
        "rslt_df = data[(data['tot_page_views'] ==0) & (data['target']==0)]\n",
        "rslt_df.shape"
      ],
      "execution_count": null,
      "outputs": [
        {
          "output_type": "execute_result",
          "data": {
            "text/plain": [
              "(110, 561)"
            ]
          },
          "metadata": {
            "tags": []
          },
          "execution_count": 223
        }
      ]
    },
    {
      "cell_type": "code",
      "metadata": {
        "id": "0gQssQu7pvAR",
        "colab_type": "code",
        "colab": {
          "base_uri": "https://localhost:8080/",
          "height": 408
        },
        "outputId": "e9644cd6-c9df-44ce-a940-04387c331dab"
      },
      "source": [
        "#checking values of relevant rows which satisfy above condition........\n",
        "tot = data_fc.shape[0]\n",
        "for i in data_fc.columns: \n",
        "    rslt_df = data_fc[(data_fc1[i] != 0) & (data_fc1['target']==0)]\n",
        "    c = rslt_df.shape[0]\n",
        "    if c >= 30000 and i != 'target':  #putting check if more than 70% values in a column are zero and target value is also zero,we can remov column as it does not have much variance. \n",
        "      print(i, c)"
      ],
      "execution_count": null,
      "outputs": [
        {
          "output_type": "stream",
          "text": [
            "tot_page_views 48560\n",
            "tot_page_views_l90d 30148\n",
            "tot_visits 48670\n",
            "tot_visits_l90d 30221\n",
            "log_in_events 48542\n",
            "product_view_events 48558\n",
            "checkout_s1_events 48558\n",
            "purchase_events 48670\n",
            "tot_internal_ref_page_views 44786\n",
            "tot_other_ref_page_views 48308\n",
            "tot_windows_page_views 40624\n",
            "tot_last_touch_natural_search_views 31990\n",
            "tot_last_touch_direct_views 30331\n",
            "db_city 48670\n",
            "db_companyname 48670\n",
            "db_country 48670\n",
            "db_state 48670\n",
            "db_audience 48670\n",
            "masked_email 48670\n",
            "flag_train 48670\n",
            "ftr_dummy_gu_emp_segment_descUnknown 35788\n",
            "ftr_dummy_idc_verticalsUnknown 35816\n",
            "indices 48670\n"
          ],
          "name": "stdout"
        }
      ]
    },
    {
      "cell_type": "code",
      "metadata": {
        "id": "q9jtLwtJnmIr",
        "colab_type": "code",
        "colab": {}
      },
      "source": [
        "#finding out columns where value 0 is in abundance more than 70% and target variable is zero as well.\n",
        "tot = data_fc.shape[0]\n",
        "for i in data_fc1.columns: \n",
        "    rslt_df = data_fc[(data_fc[i] != 0) & (data_fc['target']==0)]\n",
        "    c = rslt_df.shape[0]\n",
        "    if c >= 30000 and i != 'target':\n",
        "      data_fc.drop([i], axis=1,inplace=True)"
      ],
      "execution_count": null,
      "outputs": []
    },
    {
      "cell_type": "code",
      "metadata": {
        "id": "XPZTUVQCoUwP",
        "colab_type": "code",
        "colab": {
          "base_uri": "https://localhost:8080/",
          "height": 34
        },
        "outputId": "6cd513c9-3374-4c75-ecc6-3bcde924cf1a"
      },
      "source": [
        "data_fc.shape #remaining features."
      ],
      "execution_count": null,
      "outputs": [
        {
          "output_type": "execute_result",
          "data": {
            "text/plain": [
              "(50006, 538)"
            ]
          },
          "metadata": {
            "tags": []
          },
          "execution_count": 20
        }
      ]
    },
    {
      "cell_type": "code",
      "metadata": {
        "id": "2hnpU71ZHLCB",
        "colab_type": "code",
        "colab": {}
      },
      "source": [
        "data_fc.to_csv('clean_till_538_features') #Saving file...."
      ],
      "execution_count": null,
      "outputs": []
    },
    {
      "cell_type": "code",
      "metadata": {
        "id": "QNa4x8NOHb2u",
        "colab_type": "code",
        "colab": {}
      },
      "source": [
        "l = [] #identifying columns with more than less than 1% values other than zero.\n",
        "for i in data_fc.columns: \n",
        "    rslt_df = data_fc[data_fc[i] == 0]\n",
        "    c = rslt_df.shape[0]\n",
        "    if c > 49500:\n",
        "      l.append(c)\n",
        "    "
      ],
      "execution_count": null,
      "outputs": []
    },
    {
      "cell_type": "code",
      "metadata": {
        "id": "5v6krwz8IYQQ",
        "colab_type": "code",
        "colab": {
          "base_uri": "https://localhost:8080/",
          "height": 34
        },
        "outputId": "1aa60796-8de9-460f-e2ed-4901985ea017"
      },
      "source": [
        "len(l)"
      ],
      "execution_count": null,
      "outputs": [
        {
          "output_type": "execute_result",
          "data": {
            "text/plain": [
              "301"
            ]
          },
          "metadata": {
            "tags": []
          },
          "execution_count": 26
        }
      ]
    },
    {
      "cell_type": "code",
      "metadata": {
        "id": "JCPMSJSm34KE",
        "colab_type": "code",
        "colab": {}
      },
      "source": [
        "#removing columns where count of zero in column is more than 99%\n",
        "tot = data_fc.shape[0]\n",
        "for i in data_fc.columns: \n",
        "    rslt_df = data_fc[data_fc[i] == 0]\n",
        "    c = rslt_df.shape[0]\n",
        "    if c >= 49500 and i != 'target':\n",
        "      data_fc.drop([i], axis=1,inplace=True)"
      ],
      "execution_count": null,
      "outputs": []
    },
    {
      "cell_type": "code",
      "metadata": {
        "id": "P2CGbmZiIhzJ",
        "colab_type": "code",
        "colab": {
          "base_uri": "https://localhost:8080/",
          "height": 34
        },
        "outputId": "20522dfb-c408-4ba6-b3d9-912f598243e4"
      },
      "source": [
        "data_fc.shape"
      ],
      "execution_count": null,
      "outputs": [
        {
          "output_type": "execute_result",
          "data": {
            "text/plain": [
              "(50006, 237)"
            ]
          },
          "metadata": {
            "tags": []
          },
          "execution_count": 28
        }
      ]
    },
    {
      "cell_type": "code",
      "metadata": {
        "id": "QOwBW3hi4VEd",
        "colab_type": "code",
        "colab": {}
      },
      "source": [
        "data_fc.to_csv('clean_till_237_features')"
      ],
      "execution_count": null,
      "outputs": []
    },
    {
      "cell_type": "code",
      "metadata": {
        "id": "GPNzuhg61kfz",
        "colab_type": "code",
        "colab": {}
      },
      "source": [
        "#checking distribution of values in each column.\n",
        "for i in data_fc.columns:\n",
        "  o = data_fc[i].value_counts()\n",
        "  print(i,o)"
      ],
      "execution_count": null,
      "outputs": []
    },
    {
      "cell_type": "code",
      "metadata": {
        "id": "h5EC-K68blCx",
        "colab_type": "code",
        "colab": {}
      },
      "source": [
        "#identifying index of column........so that we can subset data based upon index numbers.\n",
        "for count, key in enumerate(p):\n",
        "  print(count,key)"
      ],
      "execution_count": null,
      "outputs": []
    },
    {
      "cell_type": "code",
      "metadata": {
        "id": "I9dS9aTocKre",
        "colab_type": "code",
        "colab": {
          "base_uri": "https://localhost:8080/",
          "height": 35
        },
        "outputId": "95666b96-b175-4b1c-a41b-b6377e0ba774"
      },
      "source": [
        "data.columns[1]"
      ],
      "execution_count": null,
      "outputs": [
        {
          "output_type": "execute_result",
          "data": {
            "application/vnd.google.colaboratory.intrinsic+json": {
              "type": "string"
            },
            "text/plain": [
              "'tot_page_views_l30d'"
            ]
          },
          "metadata": {
            "tags": []
          },
          "execution_count": 41
        }
      ]
    },
    {
      "cell_type": "markdown",
      "metadata": {
        "id": "VUda-ztDorO5",
        "colab_type": "text"
      },
      "source": [
        "## Below is some of the variable treatment to maked dataset more robust."
      ]
    },
    {
      "cell_type": "code",
      "metadata": {
        "id": "auWOeW_meW7_",
        "colab_type": "code",
        "colab": {}
      },
      "source": [
        "#combining all browser page views in one single column and dropping all other columns as these will compress all information in one single columns.\n",
        "data['tot_page_views_browser'] = data.iloc[:,19:24].sum(axis=1)\n",
        "data = data.drop([data.columns[19],data.columns[20],data.columns[21],data.columns[22],data.columns[23],data.columns[24]], axis='columns')\n"
      ],
      "execution_count": null,
      "outputs": []
    },
    {
      "cell_type": "code",
      "metadata": {
        "id": "wpF7hyoJkIyH",
        "colab_type": "code",
        "colab": {}
      },
      "source": [
        "#totlal page views by OS of machine combined in one column. and dropping others.\n",
        "data['tot_os_page_views']=data.iloc[:,19:24].sum(axis=1)\n",
        "data.drop([data.columns[19],data.columns[20],data.columns[21],data.columns[22],data.columns[23],data.columns[24]], axis='columns', inplace=True)"
      ],
      "execution_count": null,
      "outputs": []
    },
    {
      "cell_type": "code",
      "metadata": {
        "id": "ydxoO1CrnM5A",
        "colab_type": "code",
        "colab": {}
      },
      "source": [
        "#combining total booking of product A in one column.\n",
        "data['tot_prodA_booking_amount']=data.iloc[:,81:93].sum(axis=1)\n",
        "data.drop([data.columns[81],data.columns[82],data.columns[83],data.columns[84],data.columns[85],data.columns[86],data.columns[87],data.columns[88],data.columns[89],data.columns[90],data.columns[91],data.columns[92]], axis='columns', inplace=True)"
      ],
      "execution_count": null,
      "outputs": []
    },
    {
      "cell_type": "code",
      "metadata": {
        "id": "hPgy2PMXo2Ug",
        "colab_type": "code",
        "colab": {}
      },
      "source": [
        "#adding left out product A booking amount\n",
        "data['tot_prodA_booking_amount_2']=data.iloc[:,83:86].sum(axis=1)"
      ],
      "execution_count": null,
      "outputs": []
    },
    {
      "cell_type": "code",
      "metadata": {
        "id": "VrYQpnUiulaZ",
        "colab_type": "code",
        "colab": {}
      },
      "source": [
        "#adding booking amount of product D to one column.\n",
        "data['tot_prodD_booking_amount'] = data.iloc[:,84:86].sum(axis=1)"
      ],
      "execution_count": null,
      "outputs": []
    },
    {
      "cell_type": "code",
      "metadata": {
        "id": "GeP34eksvK_M",
        "colab_type": "code",
        "colab": {}
      },
      "source": [
        "#adding total amount for product F\n",
        "data['tot_prodF_booking_amount'] = data.iloc[:,85:88].sum(axis=1)"
      ],
      "execution_count": null,
      "outputs": []
    },
    {
      "cell_type": "code",
      "metadata": {
        "id": "neLmWdttvv2f",
        "colab_type": "code",
        "colab": {}
      },
      "source": [
        "#dropping individual prod F column\n",
        "data.drop([data.columns[86],data.columns[85],data.columns[87]],axis='columns', inplace=True)"
      ],
      "execution_count": null,
      "outputs": []
    },
    {
      "cell_type": "code",
      "metadata": {
        "id": "lCTQnNIBwEyp",
        "colab_type": "code",
        "colab": {}
      },
      "source": [
        "#adding total amount for product G\n",
        "data['tot_prodG_booking_amount'] = data.iloc[:,85:88].sum(axis=1)"
      ],
      "execution_count": null,
      "outputs": []
    },
    {
      "cell_type": "code",
      "metadata": {
        "id": "B9zBykAJwHkn",
        "colab_type": "code",
        "colab": {}
      },
      "source": [
        "#dropping individual prod G column\n",
        "data.drop([data.columns[86],data.columns[85],data.columns[87]],axis='columns', inplace=True)"
      ],
      "execution_count": null,
      "outputs": []
    },
    {
      "cell_type": "code",
      "metadata": {
        "id": "Cf_g9dK6wjXr",
        "colab_type": "code",
        "colab": {}
      },
      "source": [
        "#adding total amount for product H\n",
        "data['tot_prodH_booking_amount'] = data.iloc[:,85:87].sum(axis=1)"
      ],
      "execution_count": null,
      "outputs": []
    },
    {
      "cell_type": "code",
      "metadata": {
        "id": "BM8Mj7X1wovI",
        "colab_type": "code",
        "colab": {}
      },
      "source": [
        "#dropping individual prod H column\n",
        "data.drop([data.columns[85],data.columns[86]],axis='columns', inplace=True)"
      ],
      "execution_count": null,
      "outputs": []
    },
    {
      "cell_type": "code",
      "metadata": {
        "id": "OWKAkQaaIlqf",
        "colab_type": "code",
        "colab": {}
      },
      "source": [
        ""
      ],
      "execution_count": null,
      "outputs": []
    },
    {
      "cell_type": "code",
      "metadata": {
        "id": "OYslrhAdoJwS",
        "colab_type": "code",
        "colab": {
          "base_uri": "https://localhost:8080/",
          "height": 34
        },
        "outputId": "dc2bd409-d893-46a9-cc43-b0cd2fe022c8"
      },
      "source": [
        "data.shape #final shape after all treatment."
      ],
      "execution_count": null,
      "outputs": [
        {
          "output_type": "execute_result",
          "data": {
            "text/plain": [
              "(50006, 208)"
            ]
          },
          "metadata": {
            "tags": []
          },
          "execution_count": 130
        }
      ]
    },
    {
      "cell_type": "code",
      "metadata": {
        "id": "XPb0dwbGIm10",
        "colab_type": "code",
        "colab": {}
      },
      "source": [
        "#dropping columns which are correlated to other \n",
        "#total_Channel\n",
        "#ProdA other pct change like ProdA_std, prodA_ent, \n",
        "data.drop([data.columns[141],data.columns[150],data.columns[151],data.columns[152],data.columns[153]],axis='columns', inplace=True)"
      ],
      "execution_count": null,
      "outputs": []
    },
    {
      "cell_type": "code",
      "metadata": {
        "id": "R0I4s2LdJKbY",
        "colab_type": "code",
        "colab": {
          "base_uri": "https://localhost:8080/",
          "height": 34
        },
        "outputId": "634778b9-646a-4233-dd19-d6bfcb361e3f"
      },
      "source": [
        "data.shape\n",
        "data.to_csv('clean_till_203_features') #exporting this file."
      ],
      "execution_count": null,
      "outputs": [
        {
          "output_type": "execute_result",
          "data": {
            "text/plain": [
              "(50006, 203)"
            ]
          },
          "metadata": {
            "tags": []
          },
          "execution_count": 133
        }
      ]
    },
    {
      "cell_type": "markdown",
      "metadata": {
        "id": "kzgLUGeRBV-t",
        "colab_type": "text"
      },
      "source": [
        "# Predict subsequent action of customer. It will help personalizing targeting of potential customer.\n",
        "\n",
        "It will help understanding next best action for customer This will help marketing team decide which action to advocate via personalized email.This can help customers contact in much more personalized manner. **bold text**"
      ]
    },
    {
      "cell_type": "markdown",
      "metadata": {
        "id": "xVfXmFnBPvz5",
        "colab_type": "text"
      },
      "source": [
        ""
      ]
    },
    {
      "cell_type": "markdown",
      "metadata": {
        "id": "kl7diZeKPxoZ",
        "colab_type": "text"
      },
      "source": [
        "# Problem at hand is of prediction. \n",
        "# we want to predict correct stage for customer so that we can personalize marketing experience for customer.\n",
        "#Feature Extraction.....\n",
        "\n",
        "Here we will first plot the Pearson correlation heatmap and see the correlation of independent variables with the output variable Target. We will only select features which has correlation of above 0.5 (taking absolute value) with the output variable.\n",
        "The correlation coefficient has values between -1 to 1\n",
        "— A value closer to 0 implies weaker correlation (exact 0 implying no correlation)\n",
        "— A value closer to 1 implies stronger positive correlation\n",
        "— A value closer to -1 implies stronger negative correlation"
      ]
    },
    {
      "cell_type": "code",
      "metadata": {
        "id": "oE5mXseuhhZv",
        "colab_type": "code",
        "colab": {
          "base_uri": "https://localhost:8080/",
          "height": 72
        },
        "outputId": "3a23c800-c3c9-46ec-e2f9-721a3960b4d7"
      },
      "source": [
        "#importing libraries\n",
        "from sklearn.datasets import load_boston\n",
        "import pandas as pd\n",
        "import numpy as np\n",
        "import matplotlib\n",
        "import matplotlib.pyplot as plt\n",
        "import seaborn as sns\n",
        "import statsmodels.api as sm\n",
        "%matplotlib inline\n",
        "from sklearn.model_selection import train_test_split\n",
        "from sklearn.linear_model import LinearRegression\n",
        "from sklearn.feature_selection import RFE\n",
        "from sklearn.linear_model import RidgeCV, LassoCV, Ridge, Lasso"
      ],
      "execution_count": null,
      "outputs": [
        {
          "output_type": "stream",
          "text": [
            "/usr/local/lib/python3.6/dist-packages/statsmodels/tools/_testing.py:19: FutureWarning: pandas.util.testing is deprecated. Use the functions in the public API at pandas.testing instead.\n",
            "  import pandas.util.testing as tm\n"
          ],
          "name": "stderr"
        }
      ]
    },
    {
      "cell_type": "code",
      "metadata": {
        "id": "wzS4CH1Lgsy4",
        "colab_type": "code",
        "colab": {}
      },
      "source": [
        "data_2 = data"
      ],
      "execution_count": null,
      "outputs": []
    },
    {
      "cell_type": "code",
      "metadata": {
        "id": "gV2R8xnCSDTj",
        "colab_type": "code",
        "colab": {}
      },
      "source": [
        "#changing data type.....reimported file.\n",
        "for i in data.columns:\n",
        "  if data[i].nunique() < 8:\n",
        "    data[i]= data[i].astype('category')"
      ],
      "execution_count": null,
      "outputs": []
    },
    {
      "cell_type": "code",
      "metadata": {
        "id": "l-8St26ugsEh",
        "colab_type": "code",
        "colab": {}
      },
      "source": [
        "data= pd.read_csv('till_203.csv')"
      ],
      "execution_count": null,
      "outputs": []
    },
    {
      "cell_type": "code",
      "metadata": {
        "id": "Gy6tAeIXUPzy",
        "colab_type": "code",
        "colab": {
          "base_uri": "https://localhost:8080/",
          "height": 191
        },
        "outputId": "b25fbb85-5fad-406c-d23b-db1214d99fd5"
      },
      "source": [
        "data_type = data.dtypes #making data frame of column name and data type.\n",
        "data_type = pd.DataFrame(data_type)\n",
        "data_type.index"
      ],
      "execution_count": null,
      "outputs": [
        {
          "output_type": "execute_result",
          "data": {
            "text/plain": [
              "Index(['Unnamed: 0', 'Unnamed: 0.1', 'tot_page_views_l30d', 'tot_visits_l30d',\n",
              "       'internal_search_events', 'buy_now_events', 'download_trial_events',\n",
              "       'support_search_events', 'get_pricing_events', 'form_success_events',\n",
              "       ...\n",
              "       'tgt_first_date_hol_page_view', 'tgt_first_date_any_download', 'target',\n",
              "       'tot_page_views_browser', 'tot_os_page_views',\n",
              "       'tot_prodA_booking_amount', 'tot_prodD_booking_amount',\n",
              "       'tot_prodF_booking_amount', 'tot_prodG_booking_amount',\n",
              "       'tot_prodH_booking_amount'],\n",
              "      dtype='object', length=202)"
            ]
          },
          "metadata": {
            "tags": []
          },
          "execution_count": 7
        }
      ]
    },
    {
      "cell_type": "code",
      "metadata": {
        "id": "ZJaTEQZuYHD2",
        "colab_type": "code",
        "colab": {}
      },
      "source": [
        "data_type.columns=['type'] #changing name of column."
      ],
      "execution_count": null,
      "outputs": []
    },
    {
      "cell_type": "code",
      "metadata": {
        "id": "nXbZJU9PXuOV",
        "colab_type": "code",
        "colab": {}
      },
      "source": [
        "#segregating columns with non category type.\n",
        "non_category_list = data_type.index[data_type['type'] != 'category'].tolist()"
      ],
      "execution_count": null,
      "outputs": []
    },
    {
      "cell_type": "code",
      "metadata": {
        "id": "HEyTyTPGYBX2",
        "colab_type": "code",
        "colab": {}
      },
      "source": [
        "non_category_list"
      ],
      "execution_count": null,
      "outputs": []
    },
    {
      "cell_type": "code",
      "metadata": {
        "id": "FLwPooOjVPbz",
        "colab_type": "code",
        "colab": {
          "base_uri": "https://localhost:8080/",
          "height": 121
        },
        "outputId": "32b9c584-878b-4200-b591-ab926d8d12c1"
      },
      "source": [
        "data_type['type'].value_counts() #checking distribution"
      ],
      "execution_count": null,
      "outputs": [
        {
          "output_type": "execute_result",
          "data": {
            "text/plain": [
              "float64     133\n",
              "category     66\n",
              "int64         1\n",
              "category      1\n",
              "category      1\n",
              "Name: type, dtype: int64"
            ]
          },
          "metadata": {
            "tags": []
          },
          "execution_count": 11
        }
      ]
    },
    {
      "cell_type": "code",
      "metadata": {
        "id": "cAIviBxrpkWL",
        "colab_type": "code",
        "colab": {}
      },
      "source": [
        "for i in data.columns:\n",
        "  print(i,data[i].isnull().sum())   #finding columns with null values..... we still have two columns with blanks."
      ],
      "execution_count": null,
      "outputs": []
    },
    {
      "cell_type": "code",
      "metadata": {
        "id": "KnNw2Sg0maKA",
        "colab_type": "code",
        "colab": {}
      },
      "source": [
        "data.drop(['total_employees','derived_total_employees'], axis=1, inplace=True) #deleting columns with blank value."
      ],
      "execution_count": null,
      "outputs": []
    },
    {
      "cell_type": "code",
      "metadata": {
        "id": "EN4K_SpKRnWx",
        "colab_type": "code",
        "colab": {}
      },
      "source": [
        ""
      ],
      "execution_count": null,
      "outputs": []
    },
    {
      "cell_type": "code",
      "metadata": {
        "id": "dx8WB9L0p3Gt",
        "colab_type": "code",
        "colab": {}
      },
      "source": [
        "#we also have some negative values in data set. we need to remove them.\n",
        "#import data and apply this function without changing data type. because if you specify data type then you will have to implement changes as per category.\n",
        "for i in non_category_list:\n",
        "       data[data[i] < 0] = 9999\n"
      ],
      "execution_count": null,
      "outputs": []
    },
    {
      "cell_type": "code",
      "metadata": {
        "id": "4sBvP9ciaqup",
        "colab_type": "code",
        "colab": {}
      },
      "source": [
        "values = [9999] #Replacing all dubious values with NaN\n",
        "\n",
        "for i in values:\n",
        "  data.replace(to_replace=i, value='NaN', inplace=True)\n"
      ],
      "execution_count": null,
      "outputs": []
    },
    {
      "cell_type": "code",
      "metadata": {
        "id": "Q7i3fvGSbcxp",
        "colab_type": "code",
        "colab": {}
      },
      "source": [
        "data.dropna(axis='rows',inplace=True) #deleting all NaN values."
      ],
      "execution_count": null,
      "outputs": []
    },
    {
      "cell_type": "code",
      "metadata": {
        "id": "HNwlWpirh-84",
        "colab_type": "code",
        "colab": {}
      },
      "source": [
        "lt = data.isnull().sum()  #checking if any missing value remains.\n",
        "for i in lt:\n",
        "  print(i)"
      ],
      "execution_count": null,
      "outputs": []
    },
    {
      "cell_type": "code",
      "metadata": {
        "id": "ocT5g_uAb5vb",
        "colab_type": "code",
        "colab": {
          "base_uri": "https://localhost:8080/",
          "height": 139
        },
        "outputId": "2382e814-a29e-429b-a505-6edc9b18e63e"
      },
      "source": [
        "data['target'].value_counts()"
      ],
      "execution_count": null,
      "outputs": [
        {
          "output_type": "execute_result",
          "data": {
            "text/plain": [
              "0.0    40898\n",
              "1.0      620\n",
              "5.0      374\n",
              "4.0       76\n",
              "3.0       16\n",
              "2.0        8\n",
              "Name: target, dtype: int64"
            ]
          },
          "metadata": {
            "tags": []
          },
          "execution_count": 23
        }
      ]
    },
    {
      "cell_type": "code",
      "metadata": {
        "id": "9BsdrG_miPf0",
        "colab_type": "code",
        "colab": {}
      },
      "source": [
        "data_2 = data"
      ],
      "execution_count": null,
      "outputs": []
    },
    {
      "cell_type": "code",
      "metadata": {
        "id": "KvYtL-aIiV5C",
        "colab_type": "code",
        "colab": {}
      },
      "source": [
        "data_2.to_csv('data_Cleaned_further_203.csv')"
      ],
      "execution_count": null,
      "outputs": []
    },
    {
      "cell_type": "code",
      "metadata": {
        "id": "A_JZ9JBTqPSw",
        "colab_type": "code",
        "colab": {}
      },
      "source": [
        ""
      ],
      "execution_count": null,
      "outputs": []
    },
    {
      "cell_type": "code",
      "metadata": {
        "id": "7vfUSZyPd3ax",
        "colab_type": "code",
        "colab": {}
      },
      "source": [
        "#changing data type.....reimported file.\n",
        "for i in data.columns:\n",
        "  if data[i].nunique() < 8:\n",
        "    data[i]= data[i].astype('category')"
      ],
      "execution_count": null,
      "outputs": []
    },
    {
      "cell_type": "code",
      "metadata": {
        "id": "Siylw5mqmNhc",
        "colab_type": "code",
        "colab": {}
      },
      "source": [
        "#seperating target and remaining data set.\n",
        "X = data\n",
        "\n",
        "y = X['target']\n",
        "X = X.drop(['target'], axis='columns')"
      ],
      "execution_count": null,
      "outputs": []
    },
    {
      "cell_type": "code",
      "metadata": {
        "id": "gg2zUp-fsZ6R",
        "colab_type": "code",
        "colab": {
          "base_uri": "https://localhost:8080/",
          "height": 191
        },
        "outputId": "76b04454-d381-4f1b-8e25-c906bd9c77bc"
      },
      "source": [
        "X.columns"
      ],
      "execution_count": null,
      "outputs": [
        {
          "output_type": "execute_result",
          "data": {
            "text/plain": [
              "Index(['Unnamed: 0', 'Unnamed: 0.1', 'Unnamed: 0.1.1', 'tot_page_views_l30d',\n",
              "       'tot_visits_l30d', 'internal_search_events', 'buy_now_events',\n",
              "       'download_trial_events', 'support_search_events', 'get_pricing_events',\n",
              "       ...\n",
              "       'ftr_dummy_idc_verticals9', 'tgt_first_date_hol_page_view',\n",
              "       'tgt_first_date_any_download', 'tot_page_views_browser',\n",
              "       'tot_os_page_views', 'tot_prodA_booking_amount',\n",
              "       'tot_prodD_booking_amount', 'tot_prodF_booking_amount',\n",
              "       'tot_prodG_booking_amount', 'tot_prodH_booking_amount'],\n",
              "      dtype='object', length=202)"
            ]
          },
          "metadata": {
            "tags": []
          },
          "execution_count": 7
        }
      ]
    },
    {
      "cell_type": "code",
      "metadata": {
        "id": "ayJsTDMnsc2u",
        "colab_type": "code",
        "colab": {}
      },
      "source": [
        "X=X.drop(['Unnamed: 0', 'Unnamed: 0.1', 'Unnamed: 0.1.1'], axis='columns') #removing unnecessary columns."
      ],
      "execution_count": null,
      "outputs": []
    },
    {
      "cell_type": "code",
      "metadata": {
        "id": "R0tU1tXfmI3C",
        "colab_type": "code",
        "colab": {}
      },
      "source": [
        "from sklearn.feature_selection import RFE\n",
        "from sklearn.linear_model import LogisticRegression\n",
        "from sklearn.feature_selection import SelectKBest\n",
        "from sklearn.feature_selection import chi2"
      ],
      "execution_count": null,
      "outputs": []
    },
    {
      "cell_type": "code",
      "metadata": {
        "id": "THqqeE_htGQa",
        "colab_type": "code",
        "colab": {}
      },
      "source": [
        "#apply SelectKBest class to extract top 10 best features\n",
        "bestf = SelectKBest(score_func=chi2, k=40)\n",
        "fit = bestf.fit(X,y)\n",
        "dfscores = pd.DataFrame(fit.scores_)\n",
        "dfcolumns = pd.DataFrame(X.columns)\n",
        "#making data frame\n",
        "featureScores = pd.concat([dfcolumns,dfscores],axis=1)\n",
        "featureScores.columns = ['feature','Score']  #naming the dataframe columns\n"
      ],
      "execution_count": null,
      "outputs": []
    },
    {
      "cell_type": "code",
      "metadata": {
        "id": "Rxr7dkndugtW",
        "colab_type": "code",
        "colab": {
          "base_uri": "https://localhost:8080/",
          "height": 415
        },
        "outputId": "4057cd51-7729-41f1-fdb6-4c89d26c9913"
      },
      "source": [
        "featureScores.sort_values(by=['Score'])"
      ],
      "execution_count": null,
      "outputs": [
        {
          "output_type": "execute_result",
          "data": {
            "text/html": [
              "<div>\n",
              "<style scoped>\n",
              "    .dataframe tbody tr th:only-of-type {\n",
              "        vertical-align: middle;\n",
              "    }\n",
              "\n",
              "    .dataframe tbody tr th {\n",
              "        vertical-align: top;\n",
              "    }\n",
              "\n",
              "    .dataframe thead th {\n",
              "        text-align: right;\n",
              "    }\n",
              "</style>\n",
              "<table border=\"1\" class=\"dataframe\">\n",
              "  <thead>\n",
              "    <tr style=\"text-align: right;\">\n",
              "      <th></th>\n",
              "      <th>Specs</th>\n",
              "      <th>Score</th>\n",
              "    </tr>\n",
              "  </thead>\n",
              "  <tbody>\n",
              "    <tr>\n",
              "      <th>147</th>\n",
              "      <td>prodC_booking_pct</td>\n",
              "      <td>4.176784e-01</td>\n",
              "    </tr>\n",
              "    <tr>\n",
              "      <th>146</th>\n",
              "      <td>prodB_booking_pct</td>\n",
              "      <td>8.417702e-01</td>\n",
              "    </tr>\n",
              "    <tr>\n",
              "      <th>151</th>\n",
              "      <td>prodG_booking_pct</td>\n",
              "      <td>1.052964e+00</td>\n",
              "    </tr>\n",
              "    <tr>\n",
              "      <th>164</th>\n",
              "      <td>ftr_dummy_db_industry10</td>\n",
              "      <td>1.202979e+00</td>\n",
              "    </tr>\n",
              "    <tr>\n",
              "      <th>174</th>\n",
              "      <td>ftr_dummy_highest_prodA_editionto1</td>\n",
              "      <td>1.902258e+00</td>\n",
              "    </tr>\n",
              "    <tr>\n",
              "      <th>...</th>\n",
              "      <td>...</td>\n",
              "      <td>...</td>\n",
              "    </tr>\n",
              "    <tr>\n",
              "      <th>81</th>\n",
              "      <td>total_2014_bookings_amount</td>\n",
              "      <td>1.309876e+08</td>\n",
              "    </tr>\n",
              "    <tr>\n",
              "      <th>194</th>\n",
              "      <td>tot_prodA_booking_amount</td>\n",
              "      <td>1.389576e+08</td>\n",
              "    </tr>\n",
              "    <tr>\n",
              "      <th>80</th>\n",
              "      <td>total_2013_bookings_amount</td>\n",
              "      <td>1.811424e+08</td>\n",
              "    </tr>\n",
              "    <tr>\n",
              "      <th>61</th>\n",
              "      <td>total_bookings_amount</td>\n",
              "      <td>1.888392e+08</td>\n",
              "    </tr>\n",
              "    <tr>\n",
              "      <th>57</th>\n",
              "      <td>total_prodV_bookings_amount</td>\n",
              "      <td>2.035725e+08</td>\n",
              "    </tr>\n",
              "  </tbody>\n",
              "</table>\n",
              "<p>199 rows × 2 columns</p>\n",
              "</div>"
            ],
            "text/plain": [
              "                                  Specs         Score\n",
              "147                   prodC_booking_pct  4.176784e-01\n",
              "146                   prodB_booking_pct  8.417702e-01\n",
              "151                   prodG_booking_pct  1.052964e+00\n",
              "164             ftr_dummy_db_industry10  1.202979e+00\n",
              "174  ftr_dummy_highest_prodA_editionto1  1.902258e+00\n",
              "..                                  ...           ...\n",
              "81           total_2014_bookings_amount  1.309876e+08\n",
              "194            tot_prodA_booking_amount  1.389576e+08\n",
              "80           total_2013_bookings_amount  1.811424e+08\n",
              "61                total_bookings_amount  1.888392e+08\n",
              "57          total_prodV_bookings_amount  2.035725e+08\n",
              "\n",
              "[199 rows x 2 columns]"
            ]
          },
          "metadata": {
            "tags": []
          },
          "execution_count": 14
        }
      ]
    },
    {
      "cell_type": "code",
      "metadata": {
        "id": "eIj2g8MnPkXI",
        "colab_type": "code",
        "colab": {}
      },
      "source": [
        "featureScores.to_csv('SelectKbest_Result.csv') #importing this result\n"
      ],
      "execution_count": null,
      "outputs": []
    },
    {
      "cell_type": "markdown",
      "metadata": {
        "id": "vGZvlhpK0Zbh",
        "colab_type": "text"
      },
      "source": [
        "Feature 0 (median income in a block) and feature 5 (number of households) of the California housing dataset have very different scales and contain some very large outliers. These two characteristics lead to difficulties to visualize the data and, more importantly, they can degrade the predictive performance of many machine learning algorithms. Unscaled data can also slow down or even prevent the convergence of many gradient-based estimators.\n",
        "\n",
        "Indeed many estimators are designed with the assumption that each feature takes values close to zero or more importantly that all features vary on comparable scales. In particular, metric-based and gradient-based estimators often assume approximately standardized data (centered features with unit variances). A notable exception are decision tree-based estimators that are robust to arbitrary scaling of the data."
      ]
    },
    {
      "cell_type": "markdown",
      "metadata": {
        "id": "I9XZxjEA1FlD",
        "colab_type": "text"
      },
      "source": [
        "Standardization of datasets is a common requirement for many machine learning estimators implemented in scikit-learn; they might behave badly if the individual features do not more or less look like standard normally distributed data: Gaussian with zero mean and unit variance.\n",
        "\n",
        "In practice we often ignore the shape of the distribution and just transform the data to center it by removing the mean value of each feature, then scale it by dividing non-constant features by their standard deviation.\n",
        "\n",
        "For instance, many elements used in the objective function of a learning algorithm (such as the RBF kernel of Support Vector Machines or the l1 and l2 regularizers of linear models) assume that all features are centered around zero and have variance in the same order. If a feature has a variance that is orders of magnitude larger than others, it might dominate the objective function and make the estimator unable to learn from other features correctly as expected.\n",
        "\n",
        "The function scale provides a quick and easy way to perform this operation on a single array-like dataset"
      ]
    },
    {
      "cell_type": "code",
      "metadata": {
        "id": "6j5Vic-Y0Y6S",
        "colab_type": "code",
        "colab": {}
      },
      "source": [
        "#standardizing Data.\n",
        "names= X.columns\n",
        "from sklearn import preprocessing\n",
        " #robust scaler takes care of outliers in data.\n",
        "scaler = preprocessing.RobustScaler().fit(X)\n",
        "X_t = scaler.transform(X)\n",
        "X_t = pd.DataFrame(X_t, columns=names)"
      ],
      "execution_count": null,
      "outputs": []
    },
    {
      "cell_type": "code",
      "metadata": {
        "id": "iaeLSw0L3nPG",
        "colab_type": "code",
        "colab": {}
      },
      "source": [
        "X_t"
      ],
      "execution_count": null,
      "outputs": []
    },
    {
      "cell_type": "code",
      "metadata": {
        "id": "sAUsgnMn_ft-",
        "colab_type": "code",
        "colab": {
          "base_uri": "https://localhost:8080/",
          "height": 265
        },
        "outputId": "2a5d4845-5bdf-415c-d688-9d169db9a21c"
      },
      "source": [
        "#important feature extraction bt tree based models.\n",
        "from sklearn.ensemble import ExtraTreesClassifier\n",
        "import matplotlib.pyplot as plt\n",
        "model = ExtraTreesClassifier()\n",
        "model.fit(X,y)\n",
        "#plot graph\n",
        "f_imp = pd.Series(model.feature_importances_, index=X.columns)\n",
        "f_imp.nlargest(20).plot(kind='barh')\n",
        "plt.show()"
      ],
      "execution_count": null,
      "outputs": [
        {
          "output_type": "display_data",
          "data": {
            "image/png": "[encoded data removed]",
            "text/plain": [
              "<Figure size 432x288 with 1 Axes>"
            ]
          },
          "metadata": {
            "tags": [],
            "needs_background": "light"
          }
        }
      ]
    },
    {
      "cell_type": "code",
      "metadata": {
        "id": "7cBJwu4_S67Y",
        "colab_type": "code",
        "colab": {}
      },
      "source": [
        "feat_importances.to_csv('tree_features.csv') #exporting"
      ],
      "execution_count": null,
      "outputs": []
    },
    {
      "cell_type": "code",
      "metadata": {
        "id": "tEnwThNnpuBx",
        "colab_type": "code",
        "colab": {}
      },
      "source": [
        "from sklearn.feature_selection import RFECV  #recursive feature elimination using cross validation.\n",
        "from sklearn.ensemble import RandomForestClassifier\n"
      ],
      "execution_count": null,
      "outputs": []
    },
    {
      "cell_type": "code",
      "metadata": {
        "id": "I7sVcaa7YUZ8",
        "colab_type": "code",
        "colab": {}
      },
      "source": [
        "\n",
        "clf=RandomForestClassifier(n_estimators=100)\n",
        "model = RFECV(clf, step=1, cv=5)\n",
        "model = model.fit(X, y)"
      ],
      "execution_count": null,
      "outputs": []
    },
    {
      "cell_type": "code",
      "metadata": {
        "id": "XHQe8FU2_foO",
        "colab_type": "code",
        "colab": {}
      },
      "source": [
        ""
      ],
      "execution_count": null,
      "outputs": []
    },
    {
      "cell_type": "code",
      "metadata": {
        "id": "W8HHgnbU_gBj",
        "colab_type": "code",
        "colab": {}
      },
      "source": [
        "status = model.support_"
      ],
      "execution_count": null,
      "outputs": []
    },
    {
      "cell_type": "code",
      "metadata": {
        "id": "cEN63VVq_lZ1",
        "colab_type": "code",
        "colab": {}
      },
      "source": [
        "rank = model.ranking_"
      ],
      "execution_count": null,
      "outputs": []
    },
    {
      "cell_type": "code",
      "metadata": {
        "id": "5453ehin_sCX",
        "colab_type": "code",
        "colab": {}
      },
      "source": [
        "zip_list = list(zip(status,rank))"
      ],
      "execution_count": null,
      "outputs": []
    },
    {
      "cell_type": "code",
      "metadata": {
        "id": "68qH-EEyAKDv",
        "colab_type": "code",
        "colab": {}
      },
      "source": [
        "result_rfe = pd.DataFrame(zip_list, columns=['status','rank'], index=X.columns)"
      ],
      "execution_count": null,
      "outputs": []
    },
    {
      "cell_type": "code",
      "metadata": {
        "id": "37V9YzA-BBID",
        "colab_type": "code",
        "colab": {
          "base_uri": "https://localhost:8080/",
          "height": 69
        },
        "outputId": "fe597226-0659-442e-f731-cf108e5a8ed7"
      },
      "source": [
        "result_rfe.status.value_counts()"
      ],
      "execution_count": null,
      "outputs": [
        {
          "output_type": "execute_result",
          "data": {
            "text/plain": [
              "False    197\n",
              "True       2\n",
              "Name: status, dtype: int64"
            ]
          },
          "metadata": {
            "tags": []
          },
          "execution_count": 21
        }
      ]
    },
    {
      "cell_type": "code",
      "metadata": {
        "id": "3-fDbg5XBDPE",
        "colab_type": "code",
        "colab": {}
      },
      "source": [
        "result_rfe.to_csv('result_rfe_rf.csv')"
      ],
      "execution_count": null,
      "outputs": []
    },
    {
      "cell_type": "code",
      "metadata": {
        "id": "ykGPtgS9BaVH",
        "colab_type": "code",
        "colab": {}
      },
      "source": [
        "from sklearn.tree import DecisionTreeClassifier"
      ],
      "execution_count": null,
      "outputs": []
    },
    {
      "cell_type": "code",
      "metadata": {
        "id": "C97oUuNvBkdn",
        "colab_type": "code",
        "colab": {}
      },
      "source": [
        "clf_2=DecisionTreeClassifier()\n",
        "model = RFECV(clf_2, step=1, cv=5)\n",
        "model = model.fit(X_t, y)\n",
        "status_DT = model.support_\n",
        "rank_DT = model.ranking_\n",
        "com_list = list(zip(status_DT,rank_DT))\n",
        "result_rfe_DT = pd.DataFrame(com_list, columns=['status_DT','rank_DT'], index=X.columns)\n",
        "result_rfe_DT.to_csv('result_rfe_DT_standard.csv')\n"
      ],
      "execution_count": null,
      "outputs": []
    },
    {
      "cell_type": "code",
      "metadata": {
        "id": "slxI4PygD9DT",
        "colab_type": "code",
        "colab": {
          "base_uri": "https://localhost:8080/",
          "height": 69
        },
        "outputId": "5a18191d-168c-4839-aae1-559a220f924f"
      },
      "source": [
        "result_rfe_DT['status_DT'].value_counts()"
      ],
      "execution_count": null,
      "outputs": [
        {
          "output_type": "execute_result",
          "data": {
            "text/plain": [
              "False    197\n",
              "True       2\n",
              "Name: status_DT, dtype: int64"
            ]
          },
          "metadata": {
            "tags": []
          },
          "execution_count": 18
        }
      ]
    },
    {
      "cell_type": "code",
      "metadata": {
        "id": "_XmyqPsUECk9",
        "colab_type": "code",
        "colab": {}
      },
      "source": [
        "#we will take common features which are coming as a result of tree based models and Select K best in building models."
      ],
      "execution_count": null,
      "outputs": []
    },
    {
      "cell_type": "code",
      "metadata": {
        "id": "zHFxIkBDr8z4",
        "colab_type": "code",
        "colab": {
          "base_uri": "https://localhost:8080/",
          "height": 139
        },
        "outputId": "d8445759-340c-4a26-ea04-0db52bf9b729"
      },
      "source": [
        "#locating directory where our files are stored.\n",
        "import os\n",
        "os.chdir('/content/drive/My Drive/Business_analytics/Marketing_analytics/')\n",
        "!ls"
      ],
      "execution_count": null,
      "outputs": [
        {
          "output_type": "stream",
          "text": [
            "clean_till_237_features       result_rfe_rf.csv\n",
            "clean_till_538_features       SelectKbest_Result.csv\n",
            "data_Cleaned_further_203.csv  slightly_edited_data_vmware.xlsx\n",
            "final_Data_for_modelling.csv  till_203.csv\n",
            "final_imp_feature.csv\t      Training.csv\n",
            "result_rfe_DT.csv\t      tree_features.csv\n",
            "result_rfe_DT_standard.csv    Vmware.ipynb\n"
          ],
          "name": "stdout"
        }
      ]
    },
    {
      "cell_type": "code",
      "metadata": {
        "id": "JP_SbwsM8a43",
        "colab_type": "code",
        "colab": {}
      },
      "source": [
        "import pandas as pd\n",
        "data = pd.read_csv('data_Cleaned_further_203.csv')"
      ],
      "execution_count": null,
      "outputs": []
    },
    {
      "cell_type": "code",
      "metadata": {
        "id": "0C4WA_1T8iDz",
        "colab_type": "code",
        "colab": {
          "base_uri": "https://localhost:8080/",
          "height": 191
        },
        "outputId": "7063d019-7420-47fa-dacf-900f561a345b"
      },
      "source": [
        "data.columns"
      ],
      "execution_count": null,
      "outputs": [
        {
          "output_type": "execute_result",
          "data": {
            "text/plain": [
              "Index(['Unnamed: 0', 'Unnamed: 0.1', 'Unnamed: 0.1.1', 'tot_page_views_l30d',\n",
              "       'tot_visits_l30d', 'internal_search_events', 'buy_now_events',\n",
              "       'download_trial_events', 'support_search_events', 'get_pricing_events',\n",
              "       ...\n",
              "       'tgt_first_date_hol_page_view', 'tgt_first_date_any_download', 'target',\n",
              "       'tot_page_views_browser', 'tot_os_page_views',\n",
              "       'tot_prodA_booking_amount', 'tot_prodD_booking_amount',\n",
              "       'tot_prodF_booking_amount', 'tot_prodG_booking_amount',\n",
              "       'tot_prodH_booking_amount'],\n",
              "      dtype='object', length=203)"
            ]
          },
          "metadata": {
            "tags": []
          },
          "execution_count": 17
        }
      ]
    },
    {
      "cell_type": "code",
      "metadata": {
        "id": "Z04EPIOU8oeK",
        "colab_type": "code",
        "colab": {}
      },
      "source": [
        "data.drop(['Unnamed: 0', 'Unnamed: 0.1', 'Unnamed: 0.1.1'], axis = 'columns', inplace=True)"
      ],
      "execution_count": null,
      "outputs": []
    },
    {
      "cell_type": "code",
      "metadata": {
        "id": "jT-8rrFgrm8q",
        "colab_type": "code",
        "colab": {}
      },
      "source": [
        "#importing selected feature data frame.\n",
        "import pandas as pd\n",
        "Skb = pd.read_csv('SelectKbest_Result.csv')\n",
        "tree = pd.read_csv('tree_features.csv')\n",
        "RF = pd.read_csv('result_rfe_rf.csv')"
      ],
      "execution_count": null,
      "outputs": []
    },
    {
      "cell_type": "code",
      "metadata": {
        "id": "vU_GCIrssVkM",
        "colab_type": "code",
        "colab": {
          "base_uri": "https://localhost:8080/",
          "height": 35
        },
        "outputId": "0ea4d4b5-133b-4aa6-c469-c8913f8afb69"
      },
      "source": [
        "Skb.shape"
      ],
      "execution_count": null,
      "outputs": [
        {
          "output_type": "execute_result",
          "data": {
            "text/plain": [
              "(199, 3)"
            ]
          },
          "metadata": {
            "tags": []
          },
          "execution_count": 20
        }
      ]
    },
    {
      "cell_type": "code",
      "metadata": {
        "id": "vIsgQteJsYHt",
        "colab_type": "code",
        "colab": {
          "base_uri": "https://localhost:8080/",
          "height": 35
        },
        "outputId": "00441cdb-c413-44f2-a888-1026d7c9cb9a"
      },
      "source": [
        "Skb.columns"
      ],
      "execution_count": null,
      "outputs": [
        {
          "output_type": "execute_result",
          "data": {
            "text/plain": [
              "Index(['Unnamed: 0', 'Specs', 'Score'], dtype='object')"
            ]
          },
          "metadata": {
            "tags": []
          },
          "execution_count": 21
        }
      ]
    },
    {
      "cell_type": "code",
      "metadata": {
        "id": "lf2VqOI-xrti",
        "colab_type": "code",
        "colab": {}
      },
      "source": [
        "Skb['feature_rank'] = Skb['Score'].rank(ascending=False) #ranking based on score."
      ],
      "execution_count": null,
      "outputs": []
    },
    {
      "cell_type": "code",
      "metadata": {
        "id": "FxROGyenyTfl",
        "colab_type": "code",
        "colab": {
          "base_uri": "https://localhost:8080/",
          "height": 202
        },
        "outputId": "c91b2985-58a7-43a4-f262-f779b24c8cb3"
      },
      "source": [
        "Skb.head()"
      ],
      "execution_count": null,
      "outputs": [
        {
          "output_type": "execute_result",
          "data": {
            "text/html": [
              "<div>\n",
              "<style scoped>\n",
              "    .dataframe tbody tr th:only-of-type {\n",
              "        vertical-align: middle;\n",
              "    }\n",
              "\n",
              "    .dataframe tbody tr th {\n",
              "        vertical-align: top;\n",
              "    }\n",
              "\n",
              "    .dataframe thead th {\n",
              "        text-align: right;\n",
              "    }\n",
              "</style>\n",
              "<table border=\"1\" class=\"dataframe\">\n",
              "  <thead>\n",
              "    <tr style=\"text-align: right;\">\n",
              "      <th></th>\n",
              "      <th>Unnamed: 0</th>\n",
              "      <th>Specs</th>\n",
              "      <th>Score</th>\n",
              "      <th>feature_rank</th>\n",
              "    </tr>\n",
              "  </thead>\n",
              "  <tbody>\n",
              "    <tr>\n",
              "      <th>0</th>\n",
              "      <td>0</td>\n",
              "      <td>tot_page_views_l30d</td>\n",
              "      <td>1.616621e+06</td>\n",
              "      <td>20.0</td>\n",
              "    </tr>\n",
              "    <tr>\n",
              "      <th>1</th>\n",
              "      <td>1</td>\n",
              "      <td>tot_visits_l30d</td>\n",
              "      <td>3.467841e+05</td>\n",
              "      <td>28.0</td>\n",
              "    </tr>\n",
              "    <tr>\n",
              "      <th>2</th>\n",
              "      <td>2</td>\n",
              "      <td>internal_search_events</td>\n",
              "      <td>1.294151e+05</td>\n",
              "      <td>35.0</td>\n",
              "    </tr>\n",
              "    <tr>\n",
              "      <th>3</th>\n",
              "      <td>3</td>\n",
              "      <td>buy_now_events</td>\n",
              "      <td>1.132608e+02</td>\n",
              "      <td>114.0</td>\n",
              "    </tr>\n",
              "    <tr>\n",
              "      <th>4</th>\n",
              "      <td>4</td>\n",
              "      <td>download_trial_events</td>\n",
              "      <td>3.112319e+03</td>\n",
              "      <td>76.0</td>\n",
              "    </tr>\n",
              "  </tbody>\n",
              "</table>\n",
              "</div>"
            ],
            "text/plain": [
              "   Unnamed: 0                   Specs         Score  feature_rank\n",
              "0           0     tot_page_views_l30d  1.616621e+06          20.0\n",
              "1           1         tot_visits_l30d  3.467841e+05          28.0\n",
              "2           2  internal_search_events  1.294151e+05          35.0\n",
              "3           3          buy_now_events  1.132608e+02         114.0\n",
              "4           4   download_trial_events  3.112319e+03          76.0"
            ]
          },
          "metadata": {
            "tags": []
          },
          "execution_count": 23
        }
      ]
    },
    {
      "cell_type": "code",
      "metadata": {
        "id": "U2CUSRK6yVqW",
        "colab_type": "code",
        "colab": {}
      },
      "source": [
        "Skb = Skb.set_index(Skb['feature_rank']) #setting index of rank\n",
        "Skb.drop(['Unnamed: 0'], axis=1, inplace=True)"
      ],
      "execution_count": null,
      "outputs": []
    },
    {
      "cell_type": "code",
      "metadata": {
        "id": "9n9pr2VZynIn",
        "colab_type": "code",
        "colab": {
          "base_uri": "https://localhost:8080/",
          "height": 233
        },
        "outputId": "6c49d577-5bdd-4b98-8f85-d43d574542b9"
      },
      "source": [
        "Skb.head()"
      ],
      "execution_count": null,
      "outputs": [
        {
          "output_type": "execute_result",
          "data": {
            "text/html": [
              "<div>\n",
              "<style scoped>\n",
              "    .dataframe tbody tr th:only-of-type {\n",
              "        vertical-align: middle;\n",
              "    }\n",
              "\n",
              "    .dataframe tbody tr th {\n",
              "        vertical-align: top;\n",
              "    }\n",
              "\n",
              "    .dataframe thead th {\n",
              "        text-align: right;\n",
              "    }\n",
              "</style>\n",
              "<table border=\"1\" class=\"dataframe\">\n",
              "  <thead>\n",
              "    <tr style=\"text-align: right;\">\n",
              "      <th></th>\n",
              "      <th>Specs</th>\n",
              "      <th>Score</th>\n",
              "      <th>feature_rank</th>\n",
              "    </tr>\n",
              "    <tr>\n",
              "      <th>feature_rank</th>\n",
              "      <th></th>\n",
              "      <th></th>\n",
              "      <th></th>\n",
              "    </tr>\n",
              "  </thead>\n",
              "  <tbody>\n",
              "    <tr>\n",
              "      <th>20.0</th>\n",
              "      <td>tot_page_views_l30d</td>\n",
              "      <td>1.616621e+06</td>\n",
              "      <td>20.0</td>\n",
              "    </tr>\n",
              "    <tr>\n",
              "      <th>28.0</th>\n",
              "      <td>tot_visits_l30d</td>\n",
              "      <td>3.467841e+05</td>\n",
              "      <td>28.0</td>\n",
              "    </tr>\n",
              "    <tr>\n",
              "      <th>35.0</th>\n",
              "      <td>internal_search_events</td>\n",
              "      <td>1.294151e+05</td>\n",
              "      <td>35.0</td>\n",
              "    </tr>\n",
              "    <tr>\n",
              "      <th>114.0</th>\n",
              "      <td>buy_now_events</td>\n",
              "      <td>1.132608e+02</td>\n",
              "      <td>114.0</td>\n",
              "    </tr>\n",
              "    <tr>\n",
              "      <th>76.0</th>\n",
              "      <td>download_trial_events</td>\n",
              "      <td>3.112319e+03</td>\n",
              "      <td>76.0</td>\n",
              "    </tr>\n",
              "  </tbody>\n",
              "</table>\n",
              "</div>"
            ],
            "text/plain": [
              "                               Specs         Score  feature_rank\n",
              "feature_rank                                                    \n",
              "20.0             tot_page_views_l30d  1.616621e+06          20.0\n",
              "28.0                 tot_visits_l30d  3.467841e+05          28.0\n",
              "35.0          internal_search_events  1.294151e+05          35.0\n",
              "114.0                 buy_now_events  1.132608e+02         114.0\n",
              "76.0           download_trial_events  3.112319e+03          76.0"
            ]
          },
          "metadata": {
            "tags": []
          },
          "execution_count": 25
        }
      ]
    },
    {
      "cell_type": "code",
      "metadata": {
        "id": "nl3T32iMyo7_",
        "colab_type": "code",
        "colab": {}
      },
      "source": [
        "Skb = Skb.sort_index() #sorting on rank index."
      ],
      "execution_count": null,
      "outputs": []
    },
    {
      "cell_type": "code",
      "metadata": {
        "id": "ny2bNRvDy6lY",
        "colab_type": "code",
        "colab": {}
      },
      "source": [
        "desired_feature = Skb[Skb['feature_rank']<= 40] #extracting top 40."
      ],
      "execution_count": null,
      "outputs": []
    },
    {
      "cell_type": "code",
      "metadata": {
        "id": "nTmEiovnzKes",
        "colab_type": "code",
        "colab": {
          "base_uri": "https://localhost:8080/",
          "height": 35
        },
        "outputId": "9ea6f1d3-4e32-434d-c00d-1218bdc45350"
      },
      "source": [
        "desired_feature.shape"
      ],
      "execution_count": null,
      "outputs": [
        {
          "output_type": "execute_result",
          "data": {
            "text/plain": [
              "(40, 3)"
            ]
          },
          "metadata": {
            "tags": []
          },
          "execution_count": 28
        }
      ]
    },
    {
      "cell_type": "code",
      "metadata": {
        "id": "RMQpvQkXzynN",
        "colab_type": "code",
        "colab": {
          "base_uri": "https://localhost:8080/",
          "height": 225
        },
        "outputId": "0548faee-bce5-4770-8d3c-5ed196f8dcce"
      },
      "source": [
        "tree.columns = ['features','score']\n",
        "tree['features']"
      ],
      "execution_count": null,
      "outputs": [
        {
          "output_type": "execute_result",
          "data": {
            "text/plain": [
              "0           tot_page_views_l30d\n",
              "1               tot_visits_l30d\n",
              "2        internal_search_events\n",
              "3                buy_now_events\n",
              "4         download_trial_events\n",
              "                 ...           \n",
              "194    tot_prodA_booking_amount\n",
              "195    tot_prodD_booking_amount\n",
              "196    tot_prodF_booking_amount\n",
              "197    tot_prodG_booking_amount\n",
              "198    tot_prodH_booking_amount\n",
              "Name: features, Length: 199, dtype: object"
            ]
          },
          "metadata": {
            "tags": []
          },
          "execution_count": 29
        }
      ]
    },
    {
      "cell_type": "code",
      "metadata": {
        "id": "IpjPMNktzNV4",
        "colab_type": "code",
        "colab": {}
      },
      "source": [
        "#same set of steps for trees.\n",
        "tree['feature_rank_tree'] = tree['score'].rank(ascending=False) #ranking based on score.\n",
        "#Skb.drop(['Unnamed: 0'], axis=1, inplace=True)\n",
        "tree = tree.set_index(tree['feature_rank_tree']) #setting index of rank\n",
        "tree = tree.sort_index() #sorting on rank index.\n",
        "desired_feature_tree = tree[tree['feature_rank_tree']<= 40] #extracting top 40."
      ],
      "execution_count": null,
      "outputs": []
    },
    {
      "cell_type": "code",
      "metadata": {
        "id": "quo24dFBzTFJ",
        "colab_type": "code",
        "colab": {
          "base_uri": "https://localhost:8080/",
          "height": 1000
        },
        "outputId": "3dcfe19e-eb4d-40ca-cddf-2964be0027ec"
      },
      "source": [
        "desired_feature_tree"
      ],
      "execution_count": null,
      "outputs": [
        {
          "output_type": "execute_result",
          "data": {
            "text/html": [
              "<div>\n",
              "<style scoped>\n",
              "    .dataframe tbody tr th:only-of-type {\n",
              "        vertical-align: middle;\n",
              "    }\n",
              "\n",
              "    .dataframe tbody tr th {\n",
              "        vertical-align: top;\n",
              "    }\n",
              "\n",
              "    .dataframe thead th {\n",
              "        text-align: right;\n",
              "    }\n",
              "</style>\n",
              "<table border=\"1\" class=\"dataframe\">\n",
              "  <thead>\n",
              "    <tr style=\"text-align: right;\">\n",
              "      <th></th>\n",
              "      <th>features</th>\n",
              "      <th>score</th>\n",
              "      <th>feature_rank_tree</th>\n",
              "    </tr>\n",
              "    <tr>\n",
              "      <th>feature_rank_tree</th>\n",
              "      <th></th>\n",
              "      <th></th>\n",
              "      <th></th>\n",
              "    </tr>\n",
              "  </thead>\n",
              "  <tbody>\n",
              "    <tr>\n",
              "      <th>1.0</th>\n",
              "      <td>tgt_download</td>\n",
              "      <td>0.328726</td>\n",
              "      <td>1.0</td>\n",
              "    </tr>\n",
              "    <tr>\n",
              "      <th>2.0</th>\n",
              "      <td>tgt_hol</td>\n",
              "      <td>0.225016</td>\n",
              "      <td>2.0</td>\n",
              "    </tr>\n",
              "    <tr>\n",
              "      <th>3.0</th>\n",
              "      <td>tgt_first_date_any_download</td>\n",
              "      <td>0.180696</td>\n",
              "      <td>3.0</td>\n",
              "    </tr>\n",
              "    <tr>\n",
              "      <th>4.0</th>\n",
              "      <td>tgt_first_date_hol_page_view</td>\n",
              "      <td>0.102509</td>\n",
              "      <td>4.0</td>\n",
              "    </tr>\n",
              "    <tr>\n",
              "      <th>5.0</th>\n",
              "      <td>tot_visits_l30d</td>\n",
              "      <td>0.005131</td>\n",
              "      <td>5.0</td>\n",
              "    </tr>\n",
              "    <tr>\n",
              "      <th>6.0</th>\n",
              "      <td>tot_page_views_browser</td>\n",
              "      <td>0.003930</td>\n",
              "      <td>6.0</td>\n",
              "    </tr>\n",
              "    <tr>\n",
              "      <th>7.0</th>\n",
              "      <td>natural_search_events</td>\n",
              "      <td>0.003901</td>\n",
              "      <td>7.0</td>\n",
              "    </tr>\n",
              "    <tr>\n",
              "      <th>8.0</th>\n",
              "      <td>file_download_events</td>\n",
              "      <td>0.003637</td>\n",
              "      <td>8.0</td>\n",
              "    </tr>\n",
              "    <tr>\n",
              "      <th>9.0</th>\n",
              "      <td>cart_view_events</td>\n",
              "      <td>0.003158</td>\n",
              "      <td>9.0</td>\n",
              "    </tr>\n",
              "    <tr>\n",
              "      <th>10.0</th>\n",
              "      <td>tot_first_touch_natural_search_views</td>\n",
              "      <td>0.003090</td>\n",
              "      <td>10.0</td>\n",
              "    </tr>\n",
              "    <tr>\n",
              "      <th>11.0</th>\n",
              "      <td>tot_first_touch_direct_views</td>\n",
              "      <td>0.003077</td>\n",
              "      <td>11.0</td>\n",
              "    </tr>\n",
              "    <tr>\n",
              "      <th>12.0</th>\n",
              "      <td>downloads</td>\n",
              "      <td>0.003022</td>\n",
              "      <td>12.0</td>\n",
              "    </tr>\n",
              "    <tr>\n",
              "      <th>13.0</th>\n",
              "      <td>tot_page_views_l30d</td>\n",
              "      <td>0.002866</td>\n",
              "      <td>13.0</td>\n",
              "    </tr>\n",
              "    <tr>\n",
              "      <th>14.0</th>\n",
              "      <td>pdf_downloads</td>\n",
              "      <td>0.002839</td>\n",
              "      <td>14.0</td>\n",
              "    </tr>\n",
              "    <tr>\n",
              "      <th>15.0</th>\n",
              "      <td>tot_prod3_features_page_views</td>\n",
              "      <td>0.002744</td>\n",
              "      <td>15.0</td>\n",
              "    </tr>\n",
              "    <tr>\n",
              "      <th>16.0</th>\n",
              "      <td>tot_os_page_views</td>\n",
              "      <td>0.002715</td>\n",
              "      <td>16.0</td>\n",
              "    </tr>\n",
              "    <tr>\n",
              "      <th>17.0</th>\n",
              "      <td>tot_prod10_hol_page_views</td>\n",
              "      <td>0.002607</td>\n",
              "      <td>17.0</td>\n",
              "    </tr>\n",
              "    <tr>\n",
              "      <th>18.0</th>\n",
              "      <td>tot_last_touch_referring_domain_views</td>\n",
              "      <td>0.002557</td>\n",
              "      <td>18.0</td>\n",
              "    </tr>\n",
              "    <tr>\n",
              "      <th>19.0</th>\n",
              "      <td>tot_last_touch_internal_views</td>\n",
              "      <td>0.002534</td>\n",
              "      <td>19.0</td>\n",
              "    </tr>\n",
              "    <tr>\n",
              "      <th>20.0</th>\n",
              "      <td>internal_search_events</td>\n",
              "      <td>0.002504</td>\n",
              "      <td>20.0</td>\n",
              "    </tr>\n",
              "    <tr>\n",
              "      <th>21.0</th>\n",
              "      <td>tot_prod3_blog_page_views</td>\n",
              "      <td>0.002484</td>\n",
              "      <td>21.0</td>\n",
              "    </tr>\n",
              "    <tr>\n",
              "      <th>22.0</th>\n",
              "      <td>tot_last_touch_src_codes_views</td>\n",
              "      <td>0.002350</td>\n",
              "      <td>22.0</td>\n",
              "    </tr>\n",
              "    <tr>\n",
              "      <th>23.0</th>\n",
              "      <td>tot_first_touch_internal_views</td>\n",
              "      <td>0.002321</td>\n",
              "      <td>23.0</td>\n",
              "    </tr>\n",
              "    <tr>\n",
              "      <th>24.0</th>\n",
              "      <td>datasheet_downloads</td>\n",
              "      <td>0.002277</td>\n",
              "      <td>24.0</td>\n",
              "    </tr>\n",
              "    <tr>\n",
              "      <th>25.0</th>\n",
              "      <td>campaign_src_events</td>\n",
              "      <td>0.002095</td>\n",
              "      <td>25.0</td>\n",
              "    </tr>\n",
              "    <tr>\n",
              "      <th>26.0</th>\n",
              "      <td>campaign_view_events</td>\n",
              "      <td>0.001947</td>\n",
              "      <td>26.0</td>\n",
              "    </tr>\n",
              "    <tr>\n",
              "      <th>27.0</th>\n",
              "      <td>cart_add_events</td>\n",
              "      <td>0.001939</td>\n",
              "      <td>27.0</td>\n",
              "    </tr>\n",
              "    <tr>\n",
              "      <th>28.0</th>\n",
              "      <td>tot_first_touch_referring_domain_views</td>\n",
              "      <td>0.001911</td>\n",
              "      <td>28.0</td>\n",
              "    </tr>\n",
              "    <tr>\n",
              "      <th>29.0</th>\n",
              "      <td>tot_last_touch_cid_codes_views</td>\n",
              "      <td>0.001785</td>\n",
              "      <td>29.0</td>\n",
              "    </tr>\n",
              "    <tr>\n",
              "      <th>30.0</th>\n",
              "      <td>download_trial_events</td>\n",
              "      <td>0.001744</td>\n",
              "      <td>30.0</td>\n",
              "    </tr>\n",
              "    <tr>\n",
              "      <th>31.0</th>\n",
              "      <td>video_view_events</td>\n",
              "      <td>0.001702</td>\n",
              "      <td>31.0</td>\n",
              "    </tr>\n",
              "    <tr>\n",
              "      <th>32.0</th>\n",
              "      <td>tot_prod3_resources_page_views</td>\n",
              "      <td>0.001684</td>\n",
              "      <td>32.0</td>\n",
              "    </tr>\n",
              "    <tr>\n",
              "      <th>33.0</th>\n",
              "      <td>cart_open_events</td>\n",
              "      <td>0.001667</td>\n",
              "      <td>33.0</td>\n",
              "    </tr>\n",
              "    <tr>\n",
              "      <th>34.0</th>\n",
              "      <td>form_success_events</td>\n",
              "      <td>0.001649</td>\n",
              "      <td>34.0</td>\n",
              "    </tr>\n",
              "    <tr>\n",
              "      <th>35.0</th>\n",
              "      <td>ftr_dummy_db_industryUnknown</td>\n",
              "      <td>0.001636</td>\n",
              "      <td>35.0</td>\n",
              "    </tr>\n",
              "    <tr>\n",
              "      <th>36.0</th>\n",
              "      <td>tot_prod13_features_page_views</td>\n",
              "      <td>0.001619</td>\n",
              "      <td>36.0</td>\n",
              "    </tr>\n",
              "    <tr>\n",
              "      <th>37.0</th>\n",
              "      <td>support_search_events</td>\n",
              "      <td>0.001513</td>\n",
              "      <td>37.0</td>\n",
              "    </tr>\n",
              "    <tr>\n",
              "      <th>38.0</th>\n",
              "      <td>tot_prod3_downloads</td>\n",
              "      <td>0.001511</td>\n",
              "      <td>38.0</td>\n",
              "    </tr>\n",
              "    <tr>\n",
              "      <th>39.0</th>\n",
              "      <td>tot_prod13_downloads</td>\n",
              "      <td>0.001438</td>\n",
              "      <td>39.0</td>\n",
              "    </tr>\n",
              "    <tr>\n",
              "      <th>40.0</th>\n",
              "      <td>linkedin_views</td>\n",
              "      <td>0.001396</td>\n",
              "      <td>40.0</td>\n",
              "    </tr>\n",
              "  </tbody>\n",
              "</table>\n",
              "</div>"
            ],
            "text/plain": [
              "                                                 features  ...  feature_rank_tree\n",
              "feature_rank_tree                                          ...                   \n",
              "1.0                                          tgt_download  ...                1.0\n",
              "2.0                                               tgt_hol  ...                2.0\n",
              "3.0                           tgt_first_date_any_download  ...                3.0\n",
              "4.0                          tgt_first_date_hol_page_view  ...                4.0\n",
              "5.0                                       tot_visits_l30d  ...                5.0\n",
              "6.0                                tot_page_views_browser  ...                6.0\n",
              "7.0                                 natural_search_events  ...                7.0\n",
              "8.0                                  file_download_events  ...                8.0\n",
              "9.0                                      cart_view_events  ...                9.0\n",
              "10.0                 tot_first_touch_natural_search_views  ...               10.0\n",
              "11.0                         tot_first_touch_direct_views  ...               11.0\n",
              "12.0                                            downloads  ...               12.0\n",
              "13.0                                  tot_page_views_l30d  ...               13.0\n",
              "14.0                                        pdf_downloads  ...               14.0\n",
              "15.0                        tot_prod3_features_page_views  ...               15.0\n",
              "16.0                                    tot_os_page_views  ...               16.0\n",
              "17.0                            tot_prod10_hol_page_views  ...               17.0\n",
              "18.0                tot_last_touch_referring_domain_views  ...               18.0\n",
              "19.0                        tot_last_touch_internal_views  ...               19.0\n",
              "20.0                               internal_search_events  ...               20.0\n",
              "21.0                            tot_prod3_blog_page_views  ...               21.0\n",
              "22.0                       tot_last_touch_src_codes_views  ...               22.0\n",
              "23.0                       tot_first_touch_internal_views  ...               23.0\n",
              "24.0                                  datasheet_downloads  ...               24.0\n",
              "25.0                                  campaign_src_events  ...               25.0\n",
              "26.0                                 campaign_view_events  ...               26.0\n",
              "27.0                                      cart_add_events  ...               27.0\n",
              "28.0               tot_first_touch_referring_domain_views  ...               28.0\n",
              "29.0                       tot_last_touch_cid_codes_views  ...               29.0\n",
              "30.0                                download_trial_events  ...               30.0\n",
              "31.0                                    video_view_events  ...               31.0\n",
              "32.0                       tot_prod3_resources_page_views  ...               32.0\n",
              "33.0                                     cart_open_events  ...               33.0\n",
              "34.0                                  form_success_events  ...               34.0\n",
              "35.0                         ftr_dummy_db_industryUnknown  ...               35.0\n",
              "36.0                       tot_prod13_features_page_views  ...               36.0\n",
              "37.0                                support_search_events  ...               37.0\n",
              "38.0                                  tot_prod3_downloads  ...               38.0\n",
              "39.0                                 tot_prod13_downloads  ...               39.0\n",
              "40.0                                       linkedin_views  ...               40.0\n",
              "\n",
              "[40 rows x 3 columns]"
            ]
          },
          "metadata": {
            "tags": []
          },
          "execution_count": 31
        }
      ]
    },
    {
      "cell_type": "code",
      "metadata": {
        "id": "3u-IndST0nnh",
        "colab_type": "code",
        "colab": {}
      },
      "source": [
        "combined_feature_Set = pd.concat([desired_feature,desired_feature_tree], axis= 1)"
      ],
      "execution_count": null,
      "outputs": []
    },
    {
      "cell_type": "code",
      "metadata": {
        "id": "ki83kY-I1jBA",
        "colab_type": "code",
        "colab": {}
      },
      "source": [
        "combined_feature_Set"
      ],
      "execution_count": null,
      "outputs": []
    },
    {
      "cell_type": "code",
      "metadata": {
        "id": "NcxBv2yU1mex",
        "colab_type": "code",
        "colab": {}
      },
      "source": [
        "import numpy as np\n",
        "imp_feature = list(np.unique(combined_feature_Set[['Specs', 'features']].values))"
      ],
      "execution_count": null,
      "outputs": []
    },
    {
      "cell_type": "code",
      "metadata": {
        "id": "QVuig4TrlMB9",
        "colab_type": "code",
        "colab": {}
      },
      "source": [
        "imp_feature.append('target')"
      ],
      "execution_count": null,
      "outputs": []
    },
    {
      "cell_type": "code",
      "metadata": {
        "id": "7avmZXVW17un",
        "colab_type": "code",
        "colab": {
          "base_uri": "https://localhost:8080/",
          "height": 35
        },
        "outputId": "bde0045f-3bb7-4281-bacd-165535c9ad5a"
      },
      "source": [
        "combined_feature_Set.to_csv('final_imp_feature.csv')\n",
        "len(imp_feature)"
      ],
      "execution_count": null,
      "outputs": [
        {
          "output_type": "execute_result",
          "data": {
            "text/plain": [
              "58"
            ]
          },
          "metadata": {
            "tags": []
          },
          "execution_count": 40
        }
      ]
    },
    {
      "cell_type": "code",
      "metadata": {
        "id": "oAnjQcQ31-aY",
        "colab_type": "code",
        "colab": {}
      },
      "source": [
        "\n",
        "cols = imp_feature\n",
        "final_set_formodel = data[cols]\n",
        "    "
      ],
      "execution_count": null,
      "outputs": []
    },
    {
      "cell_type": "code",
      "metadata": {
        "id": "b8i_kwhB8348",
        "colab_type": "code",
        "colab": {
          "base_uri": "https://localhost:8080/",
          "height": 35
        },
        "outputId": "1bed49b7-d47c-4951-fc7a-e54e0dce967a"
      },
      "source": [
        "final_set_formodel.shape"
      ],
      "execution_count": null,
      "outputs": [
        {
          "output_type": "execute_result",
          "data": {
            "text/plain": [
              "(41992, 58)"
            ]
          },
          "metadata": {
            "tags": []
          },
          "execution_count": 42
        }
      ]
    },
    {
      "cell_type": "code",
      "metadata": {
        "id": "_AzFej7J9AGd",
        "colab_type": "code",
        "colab": {}
      },
      "source": [
        "final_set_formodel.to_csv('final_Data_for_modelling.csv')"
      ],
      "execution_count": null,
      "outputs": []
    },
    {
      "cell_type": "markdown",
      "metadata": {
        "id": "ApEaz4AHWCNm",
        "colab_type": "text"
      },
      "source": [
        "How to Use One-vs-Rest and One-vs-One for Multi-Class Classification\n",
        "by Jason Brownlee on April 13, 2020 in Ensemble Learning\n",
        "Tweet  Share\n",
        "Last Updated on June 26, 2020\n",
        "\n",
        "Not all classification predictive models support multi-class classification.\n",
        "\n",
        "Algorithms such as the Perceptron, Logistic Regression, and Support Vector Machines were designed for binary classification and do not natively support classification tasks with more than two classes.\n"
      ]
    },
    {
      "cell_type": "markdown",
      "metadata": {
        "id": "R145k154fNi1",
        "colab_type": "text"
      },
      "source": [
        "We will evaluate candidate models using repeated stratified k-fold cross-validation.\n",
        "\n",
        "The k-fold cross-validation procedure provides a good general estimate of model performance that is not too optimistically biased, at least compared to a single train-test split. We will use k=5, meaning each fold will contain about 214/5, or about 42 examples.\n",
        "\n",
        "Stratified means that each fold will aim to contain the same mixture of examples by class as the entire training dataset. Repeated means that the evaluation process will be performed multiple times to help avoid fluke results and better capture the variance of the chosen model. We will use three repeats.\n",
        "\n",
        "This means a single model will be fit and evaluated 5 * 3 or 15 times and the mean and standard deviation of these runs will be reported.\n",
        "\n",
        "This can be achieved using the RepeatedStratifiedKFold scikit-learn class.\n",
        "\n",
        "All classes are equally important. There are minority classes that are only represented with 4 percent or 6 percent of the data, yet no class has more than about 35 percent dominance of the dataset.\n",
        "\n",
        "As such, in this case, we will use classification accuracy to evaluate models."
      ]
    },
    {
      "cell_type": "code",
      "metadata": {
        "id": "vcHr25TB9GZW",
        "colab_type": "code",
        "colab": {
          "base_uri": "https://localhost:8080/",
          "height": 124
        },
        "outputId": "952a08c9-1091-490e-d448-3d8fb81a0135"
      },
      "source": [
        "#mounting Drive..............\n",
        "from google.colab import drive\n",
        "drive.mount('/content/drive')\n",
        "\n"
      ],
      "execution_count": null,
      "outputs": [
        {
          "output_type": "stream",
          "text": [
            "Go to this URL in a browser: https://accounts.google.com/o/oauth2/auth?client_id=947318989803-6bn6qk8qdgf4n4g3pfee6491hc0brc4i.apps.googleusercontent.com&redirect_uri=urn%3aietf%3awg%3aoauth%3a2.0%3aoob&scope=email%20https%3a%2f%2fwww.googleapis.com%2fauth%2fdocs.test%20https%3a%2f%2fwww.googleapis.com%2fauth%2fdrive%20https%3a%2f%2fwww.googleapis.com%2fauth%2fdrive.photos.readonly%20https%3a%2f%2fwww.googleapis.com%2fauth%2fpeopleapi.readonly&response_type=code\n",
            "\n",
            "Enter your authorization code:\n",
            "··········\n",
            "Mounted at /content/drive\n"
          ],
          "name": "stdout"
        }
      ]
    },
    {
      "cell_type": "code",
      "metadata": {
        "id": "7cEfzKFXQsDB",
        "colab_type": "code",
        "colab": {}
      },
      "source": [
        "import pandas as pd\n",
        "data = pd.read_csv('final_Data_for_modelling.csv')"
      ],
      "execution_count": 23,
      "outputs": []
    },
    {
      "cell_type": "code",
      "metadata": {
        "id": "ZSk7MQcCjwii",
        "colab_type": "code",
        "colab": {
          "base_uri": "https://localhost:8080/",
          "height": 527
        },
        "outputId": "5957deb8-76bf-4ff7-cc2f-7d751f7590de"
      },
      "source": [
        "data.columns"
      ],
      "execution_count": 24,
      "outputs": [
        {
          "output_type": "execute_result",
          "data": {
            "text/plain": [
              "Index(['Unnamed: 0', 'campaign_src_events', 'campaign_view_events',\n",
              "       'cart_add_events', 'cart_open_events', 'cart_view_events',\n",
              "       'datasheet_downloads', 'download_trial_events', 'downloads',\n",
              "       'file_download_events', 'form_success_events',\n",
              "       'ftr_dummy_db_industryUnknown', 'internal_search_events',\n",
              "       'linkedin_views', 'natural_search_events', 'pdf_downloads',\n",
              "       'sum_num_of_employees', 'support_search_events', 'tgt_download',\n",
              "       'tgt_first_date_any_download', 'tgt_first_date_hol_page_view',\n",
              "       'tgt_hol', 'tot_first_touch_direct_views',\n",
              "       'tot_first_touch_internal_views',\n",
              "       'tot_first_touch_natural_search_views',\n",
              "       'tot_first_touch_referring_domain_views',\n",
              "       'tot_first_touch_src_codes_views', 'tot_last_touch_cid_codes_views',\n",
              "       'tot_last_touch_internal_views',\n",
              "       'tot_last_touch_referring_domain_views',\n",
              "       'tot_last_touch_src_codes_views', 'tot_os_page_views',\n",
              "       'tot_page_views_browser', 'tot_page_views_l30d',\n",
              "       'tot_prod10_hol_page_views', 'tot_prod13_downloads',\n",
              "       'tot_prod13_features_page_views', 'tot_prod14_downloads',\n",
              "       'tot_prod3_blog_page_views', 'tot_prod3_downloads',\n",
              "       'tot_prod3_features_page_views', 'tot_prod3_resources_page_views',\n",
              "       'tot_prodA_booking_amount', 'tot_prodD_booking_amount',\n",
              "       'tot_prodF_booking_amount', 'tot_prodG_booking_amount',\n",
              "       'tot_prodH_booking_amount', 'tot_visits_l30d',\n",
              "       'total_2013_bookings_amount', 'total_2014_bookings_amount',\n",
              "       'total_2015_bookings_amount', 'total_bookings_amount',\n",
              "       'total_prodE_booking_amount', 'total_prodI_booking_amount',\n",
              "       'total_prodL_booking_amount', 'total_prodM_booking_amount',\n",
              "       'total_prodV_bookings_amount', 'video_view_events', 'target'],\n",
              "      dtype='object')"
            ]
          },
          "metadata": {
            "tags": []
          },
          "execution_count": 24
        }
      ]
    },
    {
      "cell_type": "code",
      "metadata": {
        "id": "oX2UXa_PjyJH",
        "colab_type": "code",
        "colab": {}
      },
      "source": [
        "data.drop(['Unnamed: 0'], axis=1, inplace=True)"
      ],
      "execution_count": 25,
      "outputs": []
    },
    {
      "cell_type": "code",
      "metadata": {
        "id": "g1RTe_puj5ad",
        "colab_type": "code",
        "colab": {
          "base_uri": "https://localhost:8080/",
          "height": 34
        },
        "outputId": "3c9fa355-eb3d-4a3f-f0b9-1be1c761e2af"
      },
      "source": [
        "data.shape"
      ],
      "execution_count": 26,
      "outputs": [
        {
          "output_type": "execute_result",
          "data": {
            "text/plain": [
              "(41992, 58)"
            ]
          },
          "metadata": {
            "tags": []
          },
          "execution_count": 26
        }
      ]
    },
    {
      "cell_type": "code",
      "metadata": {
        "id": "oVyYLGzLj-fL",
        "colab_type": "code",
        "colab": {}
      },
      "source": [
        "#data.dtypes\n",
        "#change data type\n",
        "for i in data.columns:\n",
        "  if data[i].nunique() < 8:\n",
        "    data[i]= data[i].astype('category')"
      ],
      "execution_count": 64,
      "outputs": []
    },
    {
      "cell_type": "code",
      "metadata": {
        "id": "6VMd1MzQRnBy",
        "colab_type": "code",
        "colab": {
          "base_uri": "https://localhost:8080/",
          "height": 34
        },
        "outputId": "07524f82-5a7a-4254-9327-0a5fd9f0c082"
      },
      "source": [
        "data['target'].dtypes"
      ],
      "execution_count": 65,
      "outputs": [
        {
          "output_type": "execute_result",
          "data": {
            "text/plain": [
              "CategoricalDtype(categories=[0.0, 1.0, 2.0], ordered=False)"
            ]
          },
          "metadata": {
            "tags": []
          },
          "execution_count": 65
        }
      ]
    },
    {
      "cell_type": "code",
      "metadata": {
        "id": "b9--Ho-NkeOh",
        "colab_type": "code",
        "colab": {
          "base_uri": "https://localhost:8080/",
          "height": 85
        },
        "outputId": "1eeaa4bc-af56-4462-f89e-5a0855753a3f"
      },
      "source": [
        "data['target'].value_counts()"
      ],
      "execution_count": 66,
      "outputs": [
        {
          "output_type": "execute_result",
          "data": {
            "text/plain": [
              "0.0    40898\n",
              "1.0      620\n",
              "2.0      474\n",
              "Name: target, dtype: int64"
            ]
          },
          "metadata": {
            "tags": []
          },
          "execution_count": 66
        }
      ]
    },
    {
      "cell_type": "code",
      "metadata": {
        "id": "T6bgc6aGl6kO",
        "colab_type": "code",
        "colab": {}
      },
      "source": [
        "target = list(data['target'])"
      ],
      "execution_count": 34,
      "outputs": []
    },
    {
      "cell_type": "code",
      "metadata": {
        "id": "5xUnzydcSp0i",
        "colab_type": "code",
        "colab": {}
      },
      "source": [
        "data.drop(['target'],axis=1,inplace=True)"
      ],
      "execution_count": 47,
      "outputs": []
    },
    {
      "cell_type": "code",
      "metadata": {
        "id": "5-klU9u6Swt3",
        "colab_type": "code",
        "colab": {}
      },
      "source": [
        "target"
      ],
      "execution_count": null,
      "outputs": []
    },
    {
      "cell_type": "code",
      "metadata": {
        "id": "tS7tqjVvngDR",
        "colab_type": "code",
        "colab": {}
      },
      "source": [
        "#combining 2,3,4,5 into one category. It will help us narrow down classification approaches.\n",
        "for n, i in enumerate(target):\n",
        "  if i == 2 or i == 3 or i==4 or i == 5:\n",
        "    target[n] = 2\n"
      ],
      "execution_count": 56,
      "outputs": []
    },
    {
      "cell_type": "code",
      "metadata": {
        "id": "82COe68BUnzT",
        "colab_type": "code",
        "colab": {}
      },
      "source": [
        "data['target']= target\n",
        "data.to_csv('final_data_category_modification.csv')"
      ],
      "execution_count": 61,
      "outputs": []
    },
    {
      "cell_type": "code",
      "metadata": {
        "id": "lt7mp2FkUw5C",
        "colab_type": "code",
        "colab": {
          "base_uri": "https://localhost:8080/",
          "height": 85
        },
        "outputId": "52586f6f-9a83-43d0-d353-3a7c0cd9c549"
      },
      "source": [
        "data['target'].value_counts()\n",
        "# 1 is all actions exclusing download, webinar and HOL\n",
        "# 0 is Visited website but no action was chosen\n",
        "# 2 any one action taken among HOL, Webinar and downlaod."
      ],
      "execution_count": 62,
      "outputs": [
        {
          "output_type": "execute_result",
          "data": {
            "text/plain": [
              "0.0    40898\n",
              "1.0      620\n",
              "2.0      474\n",
              "Name: target, dtype: int64"
            ]
          },
          "metadata": {
            "tags": []
          },
          "execution_count": 62
        }
      ]
    },
    {
      "cell_type": "code",
      "metadata": {
        "id": "4wlVuZ6ykJyR",
        "colab_type": "code",
        "colab": {}
      },
      "source": [
        "#seperating target and remaining data set.\n",
        "X = data\n",
        "\n",
        "y = X['target']\n",
        "X = X.drop(['target'], axis='columns')"
      ],
      "execution_count": 59,
      "outputs": []
    },
    {
      "cell_type": "code",
      "metadata": {
        "id": "OL11XJkVfb9Y",
        "colab_type": "code",
        "colab": {}
      },
      "source": [
        "from sklearn.model_selection import RepeatedStratifiedKFold\n",
        "from sklearn.model_selection import cross_val_score"
      ],
      "execution_count": 67,
      "outputs": []
    },
    {
      "cell_type": "code",
      "metadata": {
        "id": "UzQpbCEUgJhN",
        "colab_type": "code",
        "colab": {}
      },
      "source": [
        "from sklearn.svm import LinearSVC\n",
        "from sklearn.linear_model import LogisticRegression\n",
        "from sklearn.ensemble import RandomForestClassifier\n",
        "from sklearn.metrics import precision_score"
      ],
      "execution_count": 91,
      "outputs": []
    },
    {
      "cell_type": "code",
      "metadata": {
        "id": "hWv0deHKngzi",
        "colab_type": "code",
        "colab": {}
      },
      "source": [
        "#SVM with one vs rest classification using cross validation\n",
        "model = LinearSVC(multi_class='ovr', class_weight='balanced')\n",
        "cv = RepeatedStratifiedKFold(n_splits=5, n_repeats=3, random_state=1)\n",
        "score = cross_val_score(model, X, y, scoring='balanced_accuracy', cv=cv, n_jobs=-1) #evaluation\n",
        "svm_score = pd.DataFrame(score)"
      ],
      "execution_count": null,
      "outputs": []
    },
    {
      "cell_type": "code",
      "metadata": {
        "id": "GHUG7VHMp2hk",
        "colab_type": "code",
        "colab": {}
      },
      "source": [
        "#svm_score = pd.DataFrame(score)\n",
        "svm_score.to_csv('SVM_result_balanced_Acc.csv')"
      ],
      "execution_count": null,
      "outputs": []
    },
    {
      "cell_type": "code",
      "metadata": {
        "id": "H2IUBKNhp3Ik",
        "colab_type": "code",
        "colab": {}
      },
      "source": [
        "#LR with one vs rest classification using cross validation and using roc_auc metric for evaluation\n",
        "model = LogisticRegression(multi_class='ovr', class_weight='balanced')\n",
        "cv = RepeatedStratifiedKFold(n_splits=5, n_repeats=3, random_state=1)\n",
        "score = cross_val_score(model, X, y, scoring='roc_auc_ovr', cv=cv, n_jobs=-1) #evaluation\n",
        "LR_score_rocauc = pd.DataFrame(score)\n",
        "LR_score_rocauc.to_csv('LR_result_ROC_AUC.csv')\n"
      ],
      "execution_count": 79,
      "outputs": []
    },
    {
      "cell_type": "code",
      "metadata": {
        "id": "X6BKSM0VqJuf",
        "colab_type": "code",
        "colab": {}
      },
      "source": [
        "#LR with one vs rest classification using cross validation(K to 10) and using roc_auc metric for evaluation\n",
        "model = LogisticRegression(multi_class='ovr', class_weight='balanced')\n",
        "cv = RepeatedStratifiedKFold(n_splits=10, n_repeats=3, random_state=1)\n",
        "score = cross_val_score(model, X, y, scoring='roc_auc_ovr', cv=cv, n_jobs=-1) #evaluation\n",
        "LR_score_rocauc2 = pd.DataFrame(score)\n",
        "LR_score_rocauc2.to_csv('LR_result_ROC_AUC.csv') #for K=10"
      ],
      "execution_count": 81,
      "outputs": []
    },
    {
      "cell_type": "code",
      "metadata": {
        "id": "Yjb3NTmesvc6",
        "colab_type": "code",
        "colab": {
          "base_uri": "https://localhost:8080/",
          "height": 51
        },
        "outputId": "11085ffe-3d14-49f8-ad83-6a8d33da4aba"
      },
      "source": [
        "LR_score_rocauc2.mean()"
      ],
      "execution_count": 83,
      "outputs": [
        {
          "output_type": "execute_result",
          "data": {
            "text/plain": [
              "0    0.749489\n",
              "dtype: float64"
            ]
          },
          "metadata": {
            "tags": []
          },
          "execution_count": 83
        }
      ]
    },
    {
      "cell_type": "code",
      "metadata": {
        "id": "o-hnzZtssjLd",
        "colab_type": "code",
        "colab": {}
      },
      "source": [
        "#RF with one vs rest classification using cross validation\n",
        "model = RandomForestClassifier(class_weight='balanced')\n",
        "cv = RepeatedStratifiedKFold(n_splits=5, n_repeats=3, random_state=1)\n",
        "score = cross_val_score(model, X, y, scoring='balanced_accuracy', cv=cv, n_jobs=-1) #evaluation\n",
        "RF_score_Balanced_acc = pd.DataFrame(score)\n",
        "RF_score_Balanced_acc.to_csv('RF_score_balanced_Acc.csv')"
      ],
      "execution_count": 85,
      "outputs": []
    },
    {
      "cell_type": "code",
      "metadata": {
        "id": "Cbgkh7DLsJ6L",
        "colab_type": "code",
        "colab": {}
      },
      "source": [
        "#RF with one vs rest classification using cross validation\n",
        "model = RandomForestClassifier(class_weight='balanced')\n",
        "cv = RepeatedStratifiedKFold(n_splits=5, n_repeats=3, random_state=1)\n",
        "score = cross_val_score(model, X, y, scoring='f1_micro', cv=cv, n_jobs=-1) #evaluation\n",
        "RF_score_f1 = pd.DataFrame(score)\n",
        "RF_score_f1.to_csv('RF_score_Prc.csv')"
      ],
      "execution_count": 92,
      "outputs": []
    },
    {
      "cell_type": "code",
      "metadata": {
        "id": "qxExT1awwrxa",
        "colab_type": "code",
        "colab": {
          "base_uri": "https://localhost:8080/",
          "height": 51
        },
        "outputId": "524ba9e8-e1aa-4d85-9c1a-e724746a7b2b"
      },
      "source": [
        "RF_score_f1.mean()"
      ],
      "execution_count": 93,
      "outputs": [
        {
          "output_type": "execute_result",
          "data": {
            "text/plain": [
              "0    0.999397\n",
              "dtype: float64"
            ]
          },
          "metadata": {
            "tags": []
          },
          "execution_count": 93
        }
      ]
    },
    {
      "cell_type": "code",
      "metadata": {
        "id": "6zS8yPaytaXS",
        "colab_type": "code",
        "colab": {}
      },
      "source": [
        "#SVM with one vs rest classification using cross validation\n",
        "model = LinearSVC(multi_class='ovr', class_weight='balanced')\n",
        "cv = RepeatedStratifiedKFold(n_splits=5, n_repeats=3, random_state=1)\n",
        "score = cross_val_score(model, X, y, scoring='f1_micro', cv=cv, n_jobs=-1) #evaluation\n",
        "svm_score_f1 = pd.DataFrame(score)\n",
        "svm_score_f1.to_csv('svm_score_f1.csv')"
      ],
      "execution_count": 94,
      "outputs": []
    },
    {
      "cell_type": "code",
      "metadata": {
        "id": "uL9KDt2Fw5w7",
        "colab_type": "code",
        "colab": {
          "base_uri": "https://localhost:8080/",
          "height": 51
        },
        "outputId": "882ae248-5f55-4d7c-8512-461ab753993a"
      },
      "source": [
        "svm_score_f1.mean()"
      ],
      "execution_count": 95,
      "outputs": [
        {
          "output_type": "execute_result",
          "data": {
            "text/plain": [
              "0    0.943854\n",
              "dtype: float64"
            ]
          },
          "metadata": {
            "tags": []
          },
          "execution_count": 95
        }
      ]
    },
    {
      "cell_type": "code",
      "metadata": {
        "id": "SDWe0bRtxf1_",
        "colab_type": "code",
        "colab": {}
      },
      "source": [
        "#LR with one vs rest classification using cross validation and using f1_micro for evaluation\n",
        "model = LogisticRegression(multi_class='ovr', class_weight='balanced')\n",
        "cv = RepeatedStratifiedKFold(n_splits=5, n_repeats=3, random_state=1)\n",
        "score = cross_val_score(model, X, y, scoring='f1_micro', cv=cv, n_jobs=-1) #evaluation\n",
        "LR_score_f1_micro = pd.DataFrame(score)\n",
        "LR_score_f1_micro.to_csv('LR_result_f1_micro.csv')"
      ],
      "execution_count": 96,
      "outputs": []
    },
    {
      "cell_type": "code",
      "metadata": {
        "id": "HziTRqrNyzvA",
        "colab_type": "code",
        "colab": {
          "base_uri": "https://localhost:8080/",
          "height": 51
        },
        "outputId": "820755b0-89a9-41e9-acc7-7ae20f79b57d"
      },
      "source": [
        "LR_score_f1_micro.mean()"
      ],
      "execution_count": 97,
      "outputs": [
        {
          "output_type": "execute_result",
          "data": {
            "text/plain": [
              "0    0.05501\n",
              "dtype: float64"
            ]
          },
          "metadata": {
            "tags": []
          },
          "execution_count": 97
        }
      ]
    },
    {
      "cell_type": "code",
      "metadata": {
        "id": "0WFvLof2y2PW",
        "colab_type": "code",
        "colab": {}
      },
      "source": [
        ""
      ],
      "execution_count": null,
      "outputs": []
    }
  ]
}